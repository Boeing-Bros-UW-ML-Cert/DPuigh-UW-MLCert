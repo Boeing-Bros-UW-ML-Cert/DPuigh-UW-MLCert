{
 "cells": [
  {
   "cell_type": "markdown",
   "metadata": {},
   "source": [
    "# Programming Assessment for the Certificate in Machine Learning"
   ]
  },
  {
   "cell_type": "code",
   "execution_count": 1,
   "metadata": {},
   "outputs": [],
   "source": [
    "import pandas as pd\n",
    "from scipy.optimize import curve_fit"
   ]
  },
  {
   "cell_type": "markdown",
   "metadata": {},
   "source": [
    "## Load Data"
   ]
  },
  {
   "cell_type": "code",
   "execution_count": 2,
   "metadata": {},
   "outputs": [],
   "source": [
    "df = pd.read_csv('inspections.csv', parse_dates=['activity_date'])"
   ]
  },
  {
   "cell_type": "code",
   "execution_count": 3,
   "metadata": {},
   "outputs": [
    {
     "name": "stdout",
     "output_type": "stream",
     "text": [
      "(191371, 20)\n"
     ]
    },
    {
     "data": {
      "text/html": [
       "<div>\n",
       "<style scoped>\n",
       "    .dataframe tbody tr th:only-of-type {\n",
       "        vertical-align: middle;\n",
       "    }\n",
       "\n",
       "    .dataframe tbody tr th {\n",
       "        vertical-align: top;\n",
       "    }\n",
       "\n",
       "    .dataframe thead th {\n",
       "        text-align: right;\n",
       "    }\n",
       "</style>\n",
       "<table border=\"1\" class=\"dataframe\">\n",
       "  <thead>\n",
       "    <tr style=\"text-align: right;\">\n",
       "      <th></th>\n",
       "      <th>activity_date</th>\n",
       "      <th>employee_id</th>\n",
       "      <th>facility_address</th>\n",
       "      <th>facility_city</th>\n",
       "      <th>facility_id</th>\n",
       "      <th>facility_name</th>\n",
       "      <th>facility_state</th>\n",
       "      <th>facility_zip</th>\n",
       "      <th>grade</th>\n",
       "      <th>owner_id</th>\n",
       "      <th>owner_name</th>\n",
       "      <th>pe_description</th>\n",
       "      <th>program_element_pe</th>\n",
       "      <th>program_name</th>\n",
       "      <th>program_status</th>\n",
       "      <th>record_id</th>\n",
       "      <th>score</th>\n",
       "      <th>serial_number</th>\n",
       "      <th>service_code</th>\n",
       "      <th>service_description</th>\n",
       "    </tr>\n",
       "  </thead>\n",
       "  <tbody>\n",
       "    <tr>\n",
       "      <th>0</th>\n",
       "      <td>2017-05-09</td>\n",
       "      <td>EE0000593</td>\n",
       "      <td>17660 CHATSWORTH ST</td>\n",
       "      <td>GRANADA HILLS</td>\n",
       "      <td>FA0175397</td>\n",
       "      <td>HOVIK'S FAMOUS MEAT &amp; DELI</td>\n",
       "      <td>CA</td>\n",
       "      <td>91344</td>\n",
       "      <td>A</td>\n",
       "      <td>OW0181955</td>\n",
       "      <td>JOHN'S FAMOUS MEAT &amp; DELI INC.</td>\n",
       "      <td>FOOD MKT RETAIL (25-1,999 SF) HIGH RISK</td>\n",
       "      <td>1612</td>\n",
       "      <td>HOVIK'S FAMOUS MEAT &amp; DELI</td>\n",
       "      <td>ACTIVE</td>\n",
       "      <td>PR0168541</td>\n",
       "      <td>98</td>\n",
       "      <td>DAHDRUQZO</td>\n",
       "      <td>1</td>\n",
       "      <td>ROUTINE INSPECTION</td>\n",
       "    </tr>\n",
       "    <tr>\n",
       "      <th>1</th>\n",
       "      <td>2017-04-10</td>\n",
       "      <td>EE0000126</td>\n",
       "      <td>3615 PACIFIC COAST HWY</td>\n",
       "      <td>TORRANCE</td>\n",
       "      <td>FA0242138</td>\n",
       "      <td>SHAKEY'S PIZZA</td>\n",
       "      <td>CA</td>\n",
       "      <td>90505</td>\n",
       "      <td>A</td>\n",
       "      <td>OW0237843</td>\n",
       "      <td>SCO, LLC</td>\n",
       "      <td>RESTAURANT (61-150) SEATS HIGH RISK</td>\n",
       "      <td>1638</td>\n",
       "      <td>SHAKEY'S PIZZA</td>\n",
       "      <td>ACTIVE</td>\n",
       "      <td>PR0190290</td>\n",
       "      <td>94</td>\n",
       "      <td>DAL3SBUE0</td>\n",
       "      <td>1</td>\n",
       "      <td>ROUTINE INSPECTION</td>\n",
       "    </tr>\n",
       "    <tr>\n",
       "      <th>2</th>\n",
       "      <td>2017-04-04</td>\n",
       "      <td>EE0000593</td>\n",
       "      <td>17515 CHATSWORTH ST</td>\n",
       "      <td>GRANADA HILLS</td>\n",
       "      <td>FA0007801</td>\n",
       "      <td>BAITH AL HALAL</td>\n",
       "      <td>CA</td>\n",
       "      <td>91344</td>\n",
       "      <td>A</td>\n",
       "      <td>OW0031150</td>\n",
       "      <td>SABIR MOHAMMAD SHAHID</td>\n",
       "      <td>FOOD MKT RETAIL (25-1,999 SF) HIGH RISK</td>\n",
       "      <td>1612</td>\n",
       "      <td>BAITH AL HALAL</td>\n",
       "      <td>INACTIVE</td>\n",
       "      <td>PR0036723</td>\n",
       "      <td>95</td>\n",
       "      <td>DAL2PIKJU</td>\n",
       "      <td>1</td>\n",
       "      <td>ROUTINE INSPECTION</td>\n",
       "    </tr>\n",
       "    <tr>\n",
       "      <th>3</th>\n",
       "      <td>2017-08-15</td>\n",
       "      <td>EE0000971</td>\n",
       "      <td>44455 VALLEY CENTRAL WAY</td>\n",
       "      <td>LANCASTER</td>\n",
       "      <td>FA0013858</td>\n",
       "      <td>FOOD 4 LESS #306</td>\n",
       "      <td>CA</td>\n",
       "      <td>93536</td>\n",
       "      <td>A</td>\n",
       "      <td>OW0012108</td>\n",
       "      <td>FOOD 4 LESS, INC.</td>\n",
       "      <td>RESTAURANT (0-30) SEATS HIGH RISK</td>\n",
       "      <td>1632</td>\n",
       "      <td>FOOD 4 LESS DELI/BAKERY#306</td>\n",
       "      <td>ACTIVE</td>\n",
       "      <td>PR0039905</td>\n",
       "      <td>98</td>\n",
       "      <td>DA0ZMAJXZ</td>\n",
       "      <td>1</td>\n",
       "      <td>ROUTINE INSPECTION</td>\n",
       "    </tr>\n",
       "    <tr>\n",
       "      <th>4</th>\n",
       "      <td>2016-09-26</td>\n",
       "      <td>EE0000145</td>\n",
       "      <td>11700 SOUTH ST</td>\n",
       "      <td>ARTESIA</td>\n",
       "      <td>FA0179671</td>\n",
       "      <td>PHO LITTLE SAIGON</td>\n",
       "      <td>CA</td>\n",
       "      <td>90701</td>\n",
       "      <td>A</td>\n",
       "      <td>OW0185167</td>\n",
       "      <td>PHO SOUTH ST INC</td>\n",
       "      <td>RESTAURANT (61-150) SEATS HIGH RISK</td>\n",
       "      <td>1638</td>\n",
       "      <td>PHO LITTLE SAIGON</td>\n",
       "      <td>ACTIVE</td>\n",
       "      <td>PR0173311</td>\n",
       "      <td>96</td>\n",
       "      <td>DA41DBXA2</td>\n",
       "      <td>1</td>\n",
       "      <td>ROUTINE INSPECTION</td>\n",
       "    </tr>\n",
       "  </tbody>\n",
       "</table>\n",
       "</div>"
      ],
      "text/plain": [
       "  activity_date employee_id          facility_address  facility_city  \\\n",
       "0    2017-05-09   EE0000593       17660 CHATSWORTH ST  GRANADA HILLS   \n",
       "1    2017-04-10   EE0000126    3615 PACIFIC COAST HWY       TORRANCE   \n",
       "2    2017-04-04   EE0000593       17515 CHATSWORTH ST  GRANADA HILLS   \n",
       "3    2017-08-15   EE0000971  44455 VALLEY CENTRAL WAY      LANCASTER   \n",
       "4    2016-09-26   EE0000145            11700 SOUTH ST        ARTESIA   \n",
       "\n",
       "  facility_id               facility_name facility_state facility_zip grade  \\\n",
       "0   FA0175397  HOVIK'S FAMOUS MEAT & DELI             CA        91344     A   \n",
       "1   FA0242138              SHAKEY'S PIZZA             CA        90505     A   \n",
       "2   FA0007801              BAITH AL HALAL             CA        91344     A   \n",
       "3   FA0013858            FOOD 4 LESS #306             CA        93536     A   \n",
       "4   FA0179671           PHO LITTLE SAIGON             CA        90701     A   \n",
       "\n",
       "    owner_id                      owner_name  \\\n",
       "0  OW0181955  JOHN'S FAMOUS MEAT & DELI INC.   \n",
       "1  OW0237843                        SCO, LLC   \n",
       "2  OW0031150           SABIR MOHAMMAD SHAHID   \n",
       "3  OW0012108               FOOD 4 LESS, INC.   \n",
       "4  OW0185167                PHO SOUTH ST INC   \n",
       "\n",
       "                            pe_description  program_element_pe  \\\n",
       "0  FOOD MKT RETAIL (25-1,999 SF) HIGH RISK                1612   \n",
       "1      RESTAURANT (61-150) SEATS HIGH RISK                1638   \n",
       "2  FOOD MKT RETAIL (25-1,999 SF) HIGH RISK                1612   \n",
       "3        RESTAURANT (0-30) SEATS HIGH RISK                1632   \n",
       "4      RESTAURANT (61-150) SEATS HIGH RISK                1638   \n",
       "\n",
       "                  program_name program_status  record_id  score serial_number  \\\n",
       "0   HOVIK'S FAMOUS MEAT & DELI         ACTIVE  PR0168541     98     DAHDRUQZO   \n",
       "1               SHAKEY'S PIZZA         ACTIVE  PR0190290     94     DAL3SBUE0   \n",
       "2               BAITH AL HALAL       INACTIVE  PR0036723     95     DAL2PIKJU   \n",
       "3  FOOD 4 LESS DELI/BAKERY#306         ACTIVE  PR0039905     98     DA0ZMAJXZ   \n",
       "4            PHO LITTLE SAIGON         ACTIVE  PR0173311     96     DA41DBXA2   \n",
       "\n",
       "   service_code service_description  \n",
       "0             1  ROUTINE INSPECTION  \n",
       "1             1  ROUTINE INSPECTION  \n",
       "2             1  ROUTINE INSPECTION  \n",
       "3             1  ROUTINE INSPECTION  \n",
       "4             1  ROUTINE INSPECTION  "
      ]
     },
     "execution_count": 3,
     "metadata": {},
     "output_type": "execute_result"
    }
   ],
   "source": [
    "print (df.shape)\n",
    "df.head(5)"
   ]
  },
  {
   "cell_type": "code",
   "execution_count": 4,
   "metadata": {},
   "outputs": [
    {
     "data": {
      "text/plain": [
       "activity_date          datetime64[ns]\n",
       "employee_id                    object\n",
       "facility_address               object\n",
       "facility_city                  object\n",
       "facility_id                    object\n",
       "facility_name                  object\n",
       "facility_state                 object\n",
       "facility_zip                   object\n",
       "grade                          object\n",
       "owner_id                       object\n",
       "owner_name                     object\n",
       "pe_description                 object\n",
       "program_element_pe              int64\n",
       "program_name                   object\n",
       "program_status                 object\n",
       "record_id                      object\n",
       "score                           int64\n",
       "serial_number                  object\n",
       "service_code                    int64\n",
       "service_description            object\n",
       "dtype: object"
      ]
     },
     "execution_count": 4,
     "metadata": {},
     "output_type": "execute_result"
    }
   ],
   "source": [
    "df.dtypes"
   ]
  },
  {
   "cell_type": "markdown",
   "metadata": {},
   "source": [
    "## Assessment Questions"
   ]
  },
  {
   "cell_type": "markdown",
   "metadata": {},
   "source": [
    "### Employees"
   ]
  },
  {
   "cell_type": "code",
   "execution_count": 5,
   "metadata": {},
   "outputs": [],
   "source": [
    "employee_scores = df.groupby(['employee_id'])['score'].agg('mean').reset_index()"
   ]
  },
  {
   "cell_type": "code",
   "execution_count": 6,
   "metadata": {},
   "outputs": [],
   "source": [
    "top3_employee_scores = employee_scores.sort_values('score', ascending=[0]).reset_index(drop=True).iloc[:3]\n",
    "bottom3_employee_scores = employee_scores.sort_values('score', ascending=[1]).reset_index(drop=True).iloc[:3]"
   ]
  },
  {
   "cell_type": "code",
   "execution_count": 7,
   "metadata": {},
   "outputs": [
    {
     "name": "stdout",
     "output_type": "stream",
     "text": [
      "Employees with top 3 mean score:    ['EE0000252', 'EE0000284', 'EE0000259']\n",
      "Employees with bottom 3 mean score: ['EE0000821', 'EE0000699', 'EE0000719']\n"
     ]
    }
   ],
   "source": [
    "print (\"Employees with top 3 mean score:   \", list(top3_employee_scores['employee_id']))\n",
    "print (\"Employees with bottom 3 mean score:\", list(bottom3_employee_scores['employee_id']))"
   ]
  },
  {
   "cell_type": "markdown",
   "metadata": {},
   "source": [
    "### Facilities"
   ]
  },
  {
   "cell_type": "code",
   "execution_count": 8,
   "metadata": {},
   "outputs": [],
   "source": [
    "facility_scores = df.groupby(['facility_city'])['score'].agg('mean').reset_index().sort_values('score', ascending=[1]).reset_index(drop=True).iloc[[0,-1]]\n",
    "facility_locations = df.groupby(['facility_name'])['facility_city'].nunique().reset_index().sort_values('facility_city', ascending=[0])"
   ]
  },
  {
   "cell_type": "code",
   "execution_count": 9,
   "metadata": {},
   "outputs": [
    {
     "name": "stdout",
     "output_type": "stream",
     "text": [
      "City with highest mean score: SOUTH SAN GABRIEL\n",
      "City with lowest mean score:  LEONA VALLEY\n",
      "Facility with the most locations: SUBWAY\n"
     ]
    }
   ],
   "source": [
    "print (\"City with highest mean score:\", facility_scores['facility_city'].iloc[-1])\n",
    "print (\"City with lowest mean score: \", facility_scores['facility_city'].iloc[0])\n",
    "print (\"Facility with the most locations:\", facility_locations['facility_name'].iloc[0])"
   ]
  },
  {
   "cell_type": "markdown",
   "metadata": {},
   "source": [
    "### Annual Scores"
   ]
  },
  {
   "cell_type": "code",
   "execution_count": 10,
   "metadata": {},
   "outputs": [
    {
     "data": {
      "text/plain": [
       "array([2017, 2016, 2015], dtype=int64)"
      ]
     },
     "execution_count": 10,
     "metadata": {},
     "output_type": "execute_result"
    }
   ],
   "source": [
    "df['activity_date'].dt.year.unique()"
   ]
  },
  {
   "cell_type": "code",
   "execution_count": 11,
   "metadata": {
    "scrolled": true
   },
   "outputs": [],
   "source": [
    "city_year_score = df.groupby(['facility_city', df['activity_date'].dt.year])['score'].agg('mean').reset_index()"
   ]
  },
  {
   "cell_type": "code",
   "execution_count": 12,
   "metadata": {
    "scrolled": true
   },
   "outputs": [],
   "source": [
    "city_by_year = city_year_score.pivot(index='facility_city', columns='activity_date', values='score').reset_index()\n",
    "city_by_year = city_by_year.T.fillna(city_by_year.mean(axis=1)).T"
   ]
  },
  {
   "cell_type": "code",
   "execution_count": 13,
   "metadata": {},
   "outputs": [],
   "source": [
    "def f(x, m, b):\n",
    "    return m*x + b\n",
    "\n",
    "def get_slope(r_):\n",
    "    x_ = [2015, 2016, 2017]\n",
    "    y_ = [r_[2015], r_[2016], r_[2017]]\n",
    "\n",
    "    m,b = curve_fit(f, x_, y_, [1, 2000])[0]\n",
    "    \n",
    "    return m"
   ]
  },
  {
   "cell_type": "code",
   "execution_count": 14,
   "metadata": {
    "scrolled": true
   },
   "outputs": [
    {
     "name": "stderr",
     "output_type": "stream",
     "text": [
      "C:\\ProgramData\\Anaconda3\\lib\\site-packages\\scipy\\optimize\\minpack.py:794: OptimizeWarning: Covariance of the parameters could not be estimated\n",
      "  category=OptimizeWarning)\n"
     ]
    }
   ],
   "source": [
    "city_by_year.loc[:, 'score_change_by_year'] = city_by_year.apply(lambda r: get_slope(r), axis=1)"
   ]
  },
  {
   "cell_type": "code",
   "execution_count": 15,
   "metadata": {},
   "outputs": [],
   "source": [
    "city_by_year_biggest_change = city_by_year.sort_values('score_change_by_year', ascending=[1]).reset_index(drop=True)"
   ]
  },
  {
   "cell_type": "code",
   "execution_count": 16,
   "metadata": {},
   "outputs": [
    {
     "name": "stdout",
     "output_type": "stream",
     "text": [
      "City improving the most: PEARBLOSSOM\n",
      "City deteriorating the most:  LAKE HUGHES\n"
     ]
    }
   ],
   "source": [
    "print (\"City improving the most:\", city_by_year_biggest_change['facility_city'].iloc[-1])\n",
    "print (\"City deteriorating the most: \", city_by_year_biggest_change['facility_city'].iloc[0])"
   ]
  },
  {
   "cell_type": "markdown",
   "metadata": {},
   "source": [
    "### Initiated by Owner"
   ]
  },
  {
   "cell_type": "code",
   "execution_count": 17,
   "metadata": {},
   "outputs": [
    {
     "data": {
      "text/plain": [
       "ROUTINE INSPECTION                  188463\n",
       "OWNER INITIATED ROUTINE INSPECT.      2908\n",
       "Name: service_description, dtype: int64"
      ]
     },
     "execution_count": 17,
     "metadata": {},
     "output_type": "execute_result"
    }
   ],
   "source": [
    "df['service_description'].value_counts()"
   ]
  },
  {
   "cell_type": "code",
   "execution_count": 18,
   "metadata": {},
   "outputs": [],
   "source": [
    "facility_by_service_score = df.groupby(['facility_id', 'service_description'])['score'].agg('mean').reset_index()\n",
    "facility_by_service = facility_by_service_score.pivot(index='facility_id', columns='service_description', values='score').reset_index()"
   ]
  },
  {
   "cell_type": "code",
   "execution_count": 19,
   "metadata": {
    "scrolled": true
   },
   "outputs": [],
   "source": [
    "cond_both = (~facility_by_service['OWNER INITIATED ROUTINE INSPECT.'].isnull()) & (~facility_by_service['ROUTINE INSPECTION'].isnull())\n",
    "facility_both_services = facility_by_service[cond_both].reset_index(drop=True)\n",
    "cond_higher = (facility_both_services['OWNER INITIATED ROUTINE INSPECT.']>facility_both_services['ROUTINE INSPECTION'])"
   ]
  },
  {
   "cell_type": "code",
   "execution_count": 20,
   "metadata": {},
   "outputs": [
    {
     "name": "stdout",
     "output_type": "stream",
     "text": [
      "Percentage of higher establishments with higher score when owner initiated: 83.0%\n"
     ]
    }
   ],
   "source": [
    "percentage_owner_higher_score = cond_higher.sum() * 100./facility_both_services.shape[0]\n",
    "print (\"Percentage of higher establishments with higher score when owner initiated: %.1f%%\" % (percentage_owner_higher_score))"
   ]
  }
 ],
 "metadata": {
  "kernelspec": {
   "display_name": "Python 3",
   "language": "python",
   "name": "python3"
  },
  "language_info": {
   "codemirror_mode": {
    "name": "ipython",
    "version": 3
   },
   "file_extension": ".py",
   "mimetype": "text/x-python",
   "name": "python",
   "nbconvert_exporter": "python",
   "pygments_lexer": "ipython3",
   "version": "3.6.5"
  }
 },
 "nbformat": 4,
 "nbformat_minor": 2
}
