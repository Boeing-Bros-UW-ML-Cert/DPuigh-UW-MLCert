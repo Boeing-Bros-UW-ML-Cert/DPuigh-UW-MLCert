{
 "cells": [
  {
   "cell_type": "markdown",
   "metadata": {},
   "source": [
    "_The main focus of this assignment is Building Recommendation Systems from theoretical as well as practical perspective_"
   ]
  },
  {
   "cell_type": "markdown",
   "metadata": {},
   "source": [
    "## Problem 1: Implementing Recommendation Systems"
   ]
  },
  {
   "cell_type": "markdown",
   "metadata": {},
   "source": [
    "The goal of this task is to predict the recommendation score for products given user reviews. The data consists of products as columns and users as rows. The data is given as follows where P refers to the product and U refers to the user. An entry in each cell refers to the users review score or recommendation for that product."
   ]
  },
  {
   "cell_type": "markdown",
   "metadata": {},
   "source": [
    "|&nbsp; | P1 | P2 | P3 | P4 | P5 | P6 | P7 | P8 | P9 | P10 | \n",
    "|----|----|----|----|----|----|----|----|----|----|-----| \n",
    "| U1 | 3  | 7  | 4  | 9  | 9  | 7  | 6  | 7  | 8  | 8   | \n",
    "| U2 | 7  | 5  | 5  | 3  | 8  | 8  | 7  | 4  | 9  | 5   | \n",
    "| U3 | 7  | 5  | 5  | 0  | 8  | 4  | 8  | 6  | 7  | 9   | \n",
    "| U4 | 5  | 6  | 8  | 5  | 9  | 8  | 5  | 7  | 10 | 7   | \n",
    "| U5 | 5  | 8  | 8  | 8  | 10 | 9  | 7  | 4  | 9  | 8   | \n",
    "| U6 | 7  | 7  | 8  | 4  | 7  | 8  | 6  | 7  | 7  | 8   |\n"
   ]
  },
  {
   "cell_type": "markdown",
   "metadata": {},
   "source": [
    "Consider the following test set of users. The missing values are the products that the corresponding users have not bought. Given this dataset, determine which products U7, U8 and U9 should buy. Show the recommendation scores for the top 3 products."
   ]
  },
  {
   "cell_type": "markdown",
   "metadata": {},
   "source": [
    "|  &nbsp; | P1  | P2  | P3  | P4  | P5  | P6  | P7  | P8  | P9  | P10 | \n",
    "|----|-----|-----|-----|-----|-----|-----|-----|-----|-----|-----| \n",
    "| U7 |  ?  | 6   | 9   |   ? |   ? | 6   |   ? | 9   |   ? |   ? | \n",
    "| U8 | 7   |   ? | 9   |   ? | 4   |  ?  | 9   |  ?  | 7   |   ? | \n",
    "| U9 |   ? | 6   |   ? | 9   |   ? | 7   |   ? | 8   |   ? | 4   | \n"
   ]
  },
  {
   "cell_type": "code",
   "execution_count": 1,
   "metadata": {},
   "outputs": [],
   "source": [
    "# Load the Relevant libraries\n",
    "import sklearn as sk\n",
    "import pandas as pd\n",
    "import numpy as np\n",
    "\n",
    "train = pd.read_csv(\"ratingsDataTrain.csv\",index_col=0)\n",
    "test = pd.read_csv(\"ratingsDataTest.csv\",index_col=0)\n",
    "test = test.rename(index=dict(zip(['U1','U2','U3'],['U7','U8','U9'])))\n",
    "test_original = test.copy()"
   ]
  },
  {
   "cell_type": "code",
   "execution_count": 2,
   "metadata": {},
   "outputs": [],
   "source": [
    "test = test.apply(lambda x: x.str.strip() if x.dtype == \"object\" else x).replace('?',np.nan)\n",
    "train = train.apply(lambda x: x.str.strip() if x.dtype == \"object\" else x).replace('?',np.nan)\n",
    "\n",
    "test = test.astype(float)\n",
    "train = train.astype(float)"
   ]
  },
  {
   "cell_type": "code",
   "execution_count": 3,
   "metadata": {},
   "outputs": [],
   "source": [
    "nearest_neighbor = {}\n",
    "# For each user in the test set, find their nearest neighbor\n",
    "for u in test.index:\n",
    "    # Append the user to the training set\n",
    "    j = train.append(test.loc[u])\n",
    "    # Find the correlation matrix\n",
    "    corr_mat = j.T.corr()\n",
    "    # Eliminate the diagonal perfect correlation\n",
    "    corr_mat = corr_mat.replace(1.0,0.0)\n",
    "    # Find the nearest neighbor for everyone\n",
    "    NNs = corr_mat.idxmax(axis=1)\n",
    "    # extract out just the user from the test set\n",
    "    nearest_neighbor[u] = NNs[u]"
   ]
  },
  {
   "cell_type": "code",
   "execution_count": 4,
   "metadata": {},
   "outputs": [],
   "source": [
    "test_users = list(test.index.values)\n",
    "\n",
    "# For each of the users in the test set, fill their gaps with the review from their most similar user.\n",
    "# Replace their missing data in the test set to fill out the test set\n",
    "for u in test_users:\n",
    "    best_nn = nearest_neighbor.get(u)\n",
    "    test.loc[u] = test.loc[u].combine_first(train.loc[best_nn])\n",
    "\n",
    "test = test.astype(int)"
   ]
  },
  {
   "cell_type": "code",
   "execution_count": 5,
   "metadata": {},
   "outputs": [
    {
     "data": {
      "text/html": [
       "<div>\n",
       "<style scoped>\n",
       "    .dataframe tbody tr th:only-of-type {\n",
       "        vertical-align: middle;\n",
       "    }\n",
       "\n",
       "    .dataframe tbody tr th {\n",
       "        vertical-align: top;\n",
       "    }\n",
       "\n",
       "    .dataframe thead th {\n",
       "        text-align: right;\n",
       "    }\n",
       "</style>\n",
       "<table border=\"1\" class=\"dataframe\">\n",
       "  <thead>\n",
       "    <tr style=\"text-align: right;\">\n",
       "      <th></th>\n",
       "      <th>P1</th>\n",
       "      <th>P2</th>\n",
       "      <th>P3</th>\n",
       "      <th>P4</th>\n",
       "      <th>P5</th>\n",
       "      <th>P6</th>\n",
       "      <th>P7</th>\n",
       "      <th>P8</th>\n",
       "      <th>P9</th>\n",
       "      <th>P10</th>\n",
       "    </tr>\n",
       "  </thead>\n",
       "  <tbody>\n",
       "    <tr>\n",
       "      <th>U7</th>\n",
       "      <td>7</td>\n",
       "      <td>6</td>\n",
       "      <td>9</td>\n",
       "      <td>0</td>\n",
       "      <td>8</td>\n",
       "      <td>6</td>\n",
       "      <td>8</td>\n",
       "      <td>9</td>\n",
       "      <td>7</td>\n",
       "      <td>9</td>\n",
       "    </tr>\n",
       "    <tr>\n",
       "      <th>U8</th>\n",
       "      <td>7</td>\n",
       "      <td>7</td>\n",
       "      <td>9</td>\n",
       "      <td>4</td>\n",
       "      <td>4</td>\n",
       "      <td>8</td>\n",
       "      <td>9</td>\n",
       "      <td>7</td>\n",
       "      <td>7</td>\n",
       "      <td>8</td>\n",
       "    </tr>\n",
       "    <tr>\n",
       "      <th>U9</th>\n",
       "      <td>3</td>\n",
       "      <td>6</td>\n",
       "      <td>4</td>\n",
       "      <td>9</td>\n",
       "      <td>9</td>\n",
       "      <td>7</td>\n",
       "      <td>6</td>\n",
       "      <td>8</td>\n",
       "      <td>8</td>\n",
       "      <td>4</td>\n",
       "    </tr>\n",
       "  </tbody>\n",
       "</table>\n",
       "</div>"
      ],
      "text/plain": [
       "    P1  P2  P3  P4  P5  P6  P7  P8  P9  P10\n",
       "U7   7   6   9   0   8   6   8   9   7    9\n",
       "U8   7   7   9   4   4   8   9   7   7    8\n",
       "U9   3   6   4   9   9   7   6   8   8    4"
      ]
     },
     "execution_count": 5,
     "metadata": {},
     "output_type": "execute_result"
    }
   ],
   "source": [
    "test"
   ]
  },
  {
   "cell_type": "code",
   "execution_count": 6,
   "metadata": {},
   "outputs": [
    {
     "data": {
      "text/html": [
       "<div>\n",
       "<style scoped>\n",
       "    .dataframe tbody tr th:only-of-type {\n",
       "        vertical-align: middle;\n",
       "    }\n",
       "\n",
       "    .dataframe tbody tr th {\n",
       "        vertical-align: top;\n",
       "    }\n",
       "\n",
       "    .dataframe thead th {\n",
       "        text-align: right;\n",
       "    }\n",
       "</style>\n",
       "<table border=\"1\" class=\"dataframe\">\n",
       "  <thead>\n",
       "    <tr style=\"text-align: right;\">\n",
       "      <th></th>\n",
       "      <th>P1</th>\n",
       "      <th>P2</th>\n",
       "      <th>P3</th>\n",
       "      <th>P4</th>\n",
       "      <th>P5</th>\n",
       "      <th>P6</th>\n",
       "      <th>P7</th>\n",
       "      <th>P8</th>\n",
       "      <th>P9</th>\n",
       "      <th>P10</th>\n",
       "    </tr>\n",
       "  </thead>\n",
       "  <tbody>\n",
       "    <tr>\n",
       "      <th>U7</th>\n",
       "      <td>?</td>\n",
       "      <td>6</td>\n",
       "      <td>9</td>\n",
       "      <td>?</td>\n",
       "      <td>?</td>\n",
       "      <td>6</td>\n",
       "      <td>?</td>\n",
       "      <td>9</td>\n",
       "      <td>?</td>\n",
       "      <td>?</td>\n",
       "    </tr>\n",
       "    <tr>\n",
       "      <th>U8</th>\n",
       "      <td>7</td>\n",
       "      <td>?</td>\n",
       "      <td>9</td>\n",
       "      <td>?</td>\n",
       "      <td>4</td>\n",
       "      <td>?</td>\n",
       "      <td>9</td>\n",
       "      <td>?</td>\n",
       "      <td>7</td>\n",
       "      <td>?</td>\n",
       "    </tr>\n",
       "    <tr>\n",
       "      <th>U9</th>\n",
       "      <td>?</td>\n",
       "      <td>6</td>\n",
       "      <td>?</td>\n",
       "      <td>9</td>\n",
       "      <td>?</td>\n",
       "      <td>7</td>\n",
       "      <td>?</td>\n",
       "      <td>8</td>\n",
       "      <td>?</td>\n",
       "      <td>4</td>\n",
       "    </tr>\n",
       "  </tbody>\n",
       "</table>\n",
       "</div>"
      ],
      "text/plain": [
       "     P1   P2   P3   P4   P5   P6   P7   P8   P9  P10\n",
       "U7    ?    6    9    ?    ?    6    ?    9    ?    ?\n",
       "U8    7    ?    9    ?    4   ?     9   ?     7    ?\n",
       "U9    ?    6    ?    9    ?    7    ?    8    ?    4"
      ]
     },
     "execution_count": 6,
     "metadata": {},
     "output_type": "execute_result"
    }
   ],
   "source": [
    "test_original"
   ]
  },
  {
   "cell_type": "markdown",
   "metadata": {},
   "source": [
    "#### The highest rated products that our test users have not bought yet:\n",
    "\n",
    "|  User | Suggested Purchase  | Anticipated Review Score\n",
    "|----|:---:|:-:|\n",
    "| U7 |  P10  | 9 |\n",
    "| U8 | P6 or P10|8|\n",
    "| U9 | P5 | 9 |"
   ]
  },
  {
   "cell_type": "markdown",
   "metadata": {},
   "source": [
    "## Problem 2: Social Recommendation Systems"
   ]
  },
  {
   "cell_type": "markdown",
   "metadata": {},
   "source": [
    "Using the FilmTrust dataset which has historical likes information and social network connection create recommendation systems, pick any three pairs of randomly selected users and 2 randomly selected movies and make recommendations with and without the social network information.\n"
   ]
  },
  {
   "cell_type": "code",
   "execution_count": 7,
   "metadata": {},
   "outputs": [],
   "source": [
    "# Load the Relevant libraries\n",
    "import sklearn as sk\n",
    "from surprise import SVD\n",
    "from surprise import Dataset\n",
    "from surprise import accuracy\n",
    "from surprise.model_selection import train_test_split\n",
    "from surprise import Reader\n",
    "from surprise.model_selection import GridSearchCV\n",
    "\n",
    "import random\n",
    "random.seed(11235)\n",
    "import matplotlib.pyplot as plt\n",
    "\n",
    "%matplotlib inline"
   ]
  },
  {
   "cell_type": "code",
   "execution_count": 8,
   "metadata": {},
   "outputs": [],
   "source": [
    "# File for the Social Network Data (UW Repository)\n",
    "film_social_network = \"FilmTrustSocialNetwork.txt\"\n",
    "colnames = ['trustor', 'trustee', 'trust-value']\n",
    "sn = pd.read_table(film_social_network, sep=' ', header=0, names=colnames, dtype={'trustor':str,'trustee':str})\n",
    "\n",
    "# File for the Ratings Data (UW Repository)\n",
    "film_ratings = \"FilmTrustRatings.txt\"\n",
    "colnames = ['uid', 'iid', 'rating']\n",
    "rating = pd.read_table(film_ratings, sep=' ', header=0, names=colnames, dtype={'uid':str,'iid':str})"
   ]
  },
  {
   "cell_type": "code",
   "execution_count": 9,
   "metadata": {},
   "outputs": [],
   "source": [
    "# Get list of items\n",
    "items = list(rating['iid'].unique())\n",
    "\n",
    "# Get list of users, trustors, and trustees\n",
    "users = list(rating['uid'].unique())\n",
    "trustors = list(sn['trustor'].unique())\n",
    "trustees = list(sn['trustee'].unique())\n",
    "\n",
    "# Only include users that are in the trustor list, as that will be required when using social network information\n",
    "users = [u for u in users if u in trustors]"
   ]
  },
  {
   "cell_type": "code",
   "execution_count": 10,
   "metadata": {},
   "outputs": [],
   "source": [
    "# Get 3 random users and 2 random items (without replacement, each should be unique values)\n",
    "random_users = list(np.random.choice(users, 3, replace=False))\n",
    "random_items = list(np.random.choice(items, 2, replace=False))"
   ]
  },
  {
   "cell_type": "code",
   "execution_count": 11,
   "metadata": {},
   "outputs": [],
   "source": [
    "# Used for getting predictions for all items below\n",
    "df_items = pd.DataFrame(data=items, columns=['Item Id'], index=np.arange(len(items)))"
   ]
  },
  {
   "cell_type": "markdown",
   "metadata": {},
   "source": [
    "### Without Including Social Network Information"
   ]
  },
  {
   "cell_type": "code",
   "execution_count": 12,
   "metadata": {},
   "outputs": [],
   "source": [
    "# Default reader\n",
    "reader = Reader()\n",
    "\n",
    "# Load data from df, but do not include users for which we are doing prediction\n",
    "cond = (~rating['uid'].isin(random_users))\n",
    "data = Dataset.load_from_df(rating.loc[cond, ['uid', 'iid', 'rating']], reader)\n",
    "\n",
    "# Use all data in training (does not include target random users)\n",
    "train = data.build_full_trainset()\n",
    "\n",
    "# Fit to training data\n",
    "algo = SVD().fit(train)"
   ]
  },
  {
   "cell_type": "code",
   "execution_count": 13,
   "metadata": {},
   "outputs": [
    {
     "name": "stdout",
     "output_type": "stream",
     "text": [
      "**********************************************************************\n",
      "User: 1336, Item: 1239, Predicted Score: 2.8\n",
      "User: 1336, Item: 479, Predicted Score: 3.2\n",
      "User: 1336, top 5 predictions:\n",
      "  Item Id  Predicted Score\n",
      "0     286         3.737533\n",
      "1     805         3.651469\n",
      "2     335         3.593501\n",
      "3     218         3.530804\n",
      "4     658         3.516248\n",
      "**********************************************************************\n",
      "User: 556, Item: 1239, Predicted Score: 2.8\n",
      "User: 556, Item: 479, Predicted Score: 3.2\n",
      "User: 556, top 5 predictions:\n",
      "  Item Id  Predicted Score\n",
      "0     286         3.737533\n",
      "1     805         3.651469\n",
      "2     335         3.593501\n",
      "3     218         3.530804\n",
      "4     658         3.516248\n",
      "**********************************************************************\n",
      "User: 628, Item: 1239, Predicted Score: 2.8\n",
      "User: 628, Item: 479, Predicted Score: 3.2\n",
      "User: 628, top 5 predictions:\n",
      "  Item Id  Predicted Score\n",
      "0     286         3.737533\n",
      "1     805         3.651469\n",
      "2     335         3.593501\n",
      "3     218         3.530804\n",
      "4     658         3.516248\n"
     ]
    }
   ],
   "source": [
    "# Loop over random users and random items. At end, give top five items for each user based on all ratings\n",
    "for u in random_users:\n",
    "    print('*' * 70)\n",
    "    item_prediction = df_items.copy()\n",
    "    for i in random_items:\n",
    "        p = algo.predict(u,i).est\n",
    "        print('User: %s, Item: %s, Predicted Score: %.2f' % (u,i,p))\n",
    "    item_prediction['Predicted Score'] = item_prediction['Item Id'].apply(lambda x: algo.predict(u,x).est).round(2)\n",
    "    item_prediction = item_prediction.sort_values('Predicted Score', ascending=False).reset_index(drop=True)\n",
    "    print('User: %s, top 5 predictions:' % (u))\n",
    "    print(item_prediction.iloc[:5])"
   ]
  },
  {
   "cell_type": "markdown",
   "metadata": {},
   "source": [
    "Above shows the predicted scores for 3 random users and 2 random items. In addition, for each random user, we show the item ids with the top 5 predicted scores. The top of that list would be the number 1 recommendation for each user based on being the highest predicted score for that user."
   ]
  },
  {
   "cell_type": "markdown",
   "metadata": {},
   "source": [
    "### Including Social Network Information"
   ]
  },
  {
   "cell_type": "code",
   "execution_count": 23,
   "metadata": {},
   "outputs": [
    {
     "name": "stdout",
     "output_type": "stream",
     "text": [
      "**********************************************************************\n",
      "User: 1336, Number of Trustees = 3\n",
      "User: 1336, Item: 1239, Predicted Score: 2.67\n",
      "User: 1336, Item: 479, Predicted Score: 2.67\n",
      "User: 1336, top 5 predictions:\n",
      "  Item Id  Predicted Score\n",
      "0       7             2.86\n",
      "1      13             2.85\n",
      "2       2             2.83\n",
      "3     215             2.83\n",
      "4     206             2.82\n",
      "**********************************************************************\n",
      "User: 556, Number of Trustees = 2\n",
      "User: 556, Item: 1239, Predicted Score: 1.97\n",
      "User: 556, Item: 479, Predicted Score: 1.97\n",
      "User: 556, top 5 predictions:\n",
      "  Item Id  Predicted Score\n",
      "0     278             2.15\n",
      "1       8             2.12\n",
      "2     247             2.12\n",
      "3      11             2.11\n",
      "4     236             2.11\n",
      "**********************************************************************\n",
      "User: 628, Number of Trustees = 22\n",
      "User: 628, Item: 1239, Predicted Score: 3.11\n",
      "User: 628, Item: 479, Predicted Score: 3.11\n",
      "User: 628, top 5 predictions:\n",
      "  Item Id  Predicted Score\n",
      "0      13             3.48\n",
      "1     215             3.47\n",
      "2     213             3.46\n",
      "3     250             3.40\n",
      "4     245             3.39\n"
     ]
    }
   ],
   "source": [
    "# Loop over all random users\n",
    "for u in random_users:\n",
    "    print('*' * 70)\n",
    "    \n",
    "    # Make sure user is in social network data\n",
    "    cond = (sn['trustor']==u)\n",
    "    if cond.sum()==0:\n",
    "        print(\"User is not in social network data! Skipping...\")\n",
    "        continue\n",
    "    \n",
    "    # Get trustees for this user\n",
    "    trustees = sn[cond]['trustee'].unique()\n",
    "    print(\"User: %s, Number of Trustees = %d\" % (u, trustees.shape[0]))\n",
    "    \n",
    "    # Skip if trustees have no ratings in data (social network doesn't rate movies)\n",
    "    cond = (rating['uid'].isin(trustees))\n",
    "    if cond.sum()==0:\n",
    "        print(\"User does not have any trustees in movie ratings data! Skipping...\")\n",
    "        continue\n",
    "\n",
    "    # Only load data from trustees for a given user\n",
    "    data = Dataset.load_from_df(rating[cond][['uid', 'iid', 'rating']], reader)\n",
    "\n",
    "    # Training data only includes people user trusts\n",
    "    train = data.build_full_trainset()\n",
    "\n",
    "    # Fit to training data\n",
    "    algo = SVD().fit(train)\n",
    "\n",
    "    item_prediction = df_items.copy()\n",
    "    for i in random_items:\n",
    "        p = algo.predict(u,i).est\n",
    "        print('User: %s, Item: %s, Predicted Score: %.2f' % (u,i,p))\n",
    "    item_prediction['Predicted Score'] = item_prediction['Item Id'].apply(lambda x: algo.predict(u,x).est).round(2)\n",
    "    item_prediction = item_prediction.sort_values('Predicted Score', ascending=False).reset_index(drop=True)\n",
    "    print('User: %s, top 5 predictions:' % (u))\n",
    "    print(item_prediction.iloc[:5])"
   ]
  },
  {
   "cell_type": "markdown",
   "metadata": {},
   "source": [
    "Above shows the predicted scores for 3 random users and 2 random items. In addition, for each random user, we show the item ids with the top 5 predicted scores. The top of that list would be the number 1 recommendation for each user based on being the highest predicted score for that user. Note that this only uses training information from people that each user trusts. Therefore, the variability in the predicted score is limited by the variability in the scores by all the trustees for that user. If a user has a small number of trustees (they only connect to a few other people), then the user will likely get a more limited set of scores. In general, a user with a small number of trustees will have smaller predicted scores that span a more narrow range than a user with a large number of trustees."
   ]
  }
 ],
 "metadata": {
  "kernelspec": {
   "display_name": "Python 3",
   "language": "python",
   "name": "python3"
  },
  "language_info": {
   "codemirror_mode": {
    "name": "ipython",
    "version": 3
   },
   "file_extension": ".py",
   "mimetype": "text/x-python",
   "name": "python",
   "nbconvert_exporter": "python",
   "pygments_lexer": "ipython3",
   "version": "3.7.1"
  }
 },
 "nbformat": 4,
 "nbformat_minor": 1
}
