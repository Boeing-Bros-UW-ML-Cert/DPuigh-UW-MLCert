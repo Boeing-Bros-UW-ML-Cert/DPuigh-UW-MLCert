{
 "cells": [
  {
   "cell_type": "markdown",
   "metadata": {
    "collapsed": true
   },
   "source": [
    "# Assignment 8: Moving Beyond Linearity"
   ]
  },
  {
   "cell_type": "markdown",
   "metadata": {},
   "source": [
    "Dataset(s) needed:\n",
    "Hitters data frame of the ISLR library SF-DAT-21. In this assignment, we're going to predict Salary based on Hits as the only independent variable."
   ]
  },
  {
   "cell_type": "code",
   "execution_count": 1,
   "metadata": {},
   "outputs": [
    {
     "data": {
      "text/html": [
       "<div>\n",
       "<style scoped>\n",
       "    .dataframe tbody tr th:only-of-type {\n",
       "        vertical-align: middle;\n",
       "    }\n",
       "\n",
       "    .dataframe tbody tr th {\n",
       "        vertical-align: top;\n",
       "    }\n",
       "\n",
       "    .dataframe thead th {\n",
       "        text-align: right;\n",
       "    }\n",
       "</style>\n",
       "<table border=\"1\" class=\"dataframe\">\n",
       "  <thead>\n",
       "    <tr style=\"text-align: right;\">\n",
       "      <th></th>\n",
       "      <th>AtBat</th>\n",
       "      <th>Hits</th>\n",
       "      <th>HmRun</th>\n",
       "      <th>Runs</th>\n",
       "      <th>RBI</th>\n",
       "      <th>Walks</th>\n",
       "      <th>Years</th>\n",
       "      <th>CAtBat</th>\n",
       "      <th>CHits</th>\n",
       "      <th>CHmRun</th>\n",
       "      <th>CRuns</th>\n",
       "      <th>CRBI</th>\n",
       "      <th>CWalks</th>\n",
       "      <th>League</th>\n",
       "      <th>Division</th>\n",
       "      <th>PutOuts</th>\n",
       "      <th>Assists</th>\n",
       "      <th>Errors</th>\n",
       "      <th>Salary</th>\n",
       "      <th>NewLeague</th>\n",
       "    </tr>\n",
       "  </thead>\n",
       "  <tbody>\n",
       "    <tr>\n",
       "      <th>0</th>\n",
       "      <td>293</td>\n",
       "      <td>66</td>\n",
       "      <td>1</td>\n",
       "      <td>30</td>\n",
       "      <td>29</td>\n",
       "      <td>14</td>\n",
       "      <td>1</td>\n",
       "      <td>293</td>\n",
       "      <td>66</td>\n",
       "      <td>1</td>\n",
       "      <td>30</td>\n",
       "      <td>29</td>\n",
       "      <td>14</td>\n",
       "      <td>A</td>\n",
       "      <td>E</td>\n",
       "      <td>446</td>\n",
       "      <td>33</td>\n",
       "      <td>20</td>\n",
       "      <td>NaN</td>\n",
       "      <td>A</td>\n",
       "    </tr>\n",
       "    <tr>\n",
       "      <th>1</th>\n",
       "      <td>315</td>\n",
       "      <td>81</td>\n",
       "      <td>7</td>\n",
       "      <td>24</td>\n",
       "      <td>38</td>\n",
       "      <td>39</td>\n",
       "      <td>14</td>\n",
       "      <td>3449</td>\n",
       "      <td>835</td>\n",
       "      <td>69</td>\n",
       "      <td>321</td>\n",
       "      <td>414</td>\n",
       "      <td>375</td>\n",
       "      <td>N</td>\n",
       "      <td>W</td>\n",
       "      <td>632</td>\n",
       "      <td>43</td>\n",
       "      <td>10</td>\n",
       "      <td>475.0</td>\n",
       "      <td>N</td>\n",
       "    </tr>\n",
       "    <tr>\n",
       "      <th>2</th>\n",
       "      <td>479</td>\n",
       "      <td>130</td>\n",
       "      <td>18</td>\n",
       "      <td>66</td>\n",
       "      <td>72</td>\n",
       "      <td>76</td>\n",
       "      <td>3</td>\n",
       "      <td>1624</td>\n",
       "      <td>457</td>\n",
       "      <td>63</td>\n",
       "      <td>224</td>\n",
       "      <td>266</td>\n",
       "      <td>263</td>\n",
       "      <td>A</td>\n",
       "      <td>W</td>\n",
       "      <td>880</td>\n",
       "      <td>82</td>\n",
       "      <td>14</td>\n",
       "      <td>480.0</td>\n",
       "      <td>A</td>\n",
       "    </tr>\n",
       "    <tr>\n",
       "      <th>3</th>\n",
       "      <td>496</td>\n",
       "      <td>141</td>\n",
       "      <td>20</td>\n",
       "      <td>65</td>\n",
       "      <td>78</td>\n",
       "      <td>37</td>\n",
       "      <td>11</td>\n",
       "      <td>5628</td>\n",
       "      <td>1575</td>\n",
       "      <td>225</td>\n",
       "      <td>828</td>\n",
       "      <td>838</td>\n",
       "      <td>354</td>\n",
       "      <td>N</td>\n",
       "      <td>E</td>\n",
       "      <td>200</td>\n",
       "      <td>11</td>\n",
       "      <td>3</td>\n",
       "      <td>500.0</td>\n",
       "      <td>N</td>\n",
       "    </tr>\n",
       "    <tr>\n",
       "      <th>4</th>\n",
       "      <td>321</td>\n",
       "      <td>87</td>\n",
       "      <td>10</td>\n",
       "      <td>39</td>\n",
       "      <td>42</td>\n",
       "      <td>30</td>\n",
       "      <td>2</td>\n",
       "      <td>396</td>\n",
       "      <td>101</td>\n",
       "      <td>12</td>\n",
       "      <td>48</td>\n",
       "      <td>46</td>\n",
       "      <td>33</td>\n",
       "      <td>N</td>\n",
       "      <td>E</td>\n",
       "      <td>805</td>\n",
       "      <td>40</td>\n",
       "      <td>4</td>\n",
       "      <td>91.5</td>\n",
       "      <td>N</td>\n",
       "    </tr>\n",
       "    <tr>\n",
       "      <th>5</th>\n",
       "      <td>594</td>\n",
       "      <td>169</td>\n",
       "      <td>4</td>\n",
       "      <td>74</td>\n",
       "      <td>51</td>\n",
       "      <td>35</td>\n",
       "      <td>11</td>\n",
       "      <td>4408</td>\n",
       "      <td>1133</td>\n",
       "      <td>19</td>\n",
       "      <td>501</td>\n",
       "      <td>336</td>\n",
       "      <td>194</td>\n",
       "      <td>A</td>\n",
       "      <td>W</td>\n",
       "      <td>282</td>\n",
       "      <td>421</td>\n",
       "      <td>25</td>\n",
       "      <td>750.0</td>\n",
       "      <td>A</td>\n",
       "    </tr>\n",
       "    <tr>\n",
       "      <th>6</th>\n",
       "      <td>185</td>\n",
       "      <td>37</td>\n",
       "      <td>1</td>\n",
       "      <td>23</td>\n",
       "      <td>8</td>\n",
       "      <td>21</td>\n",
       "      <td>2</td>\n",
       "      <td>214</td>\n",
       "      <td>42</td>\n",
       "      <td>1</td>\n",
       "      <td>30</td>\n",
       "      <td>9</td>\n",
       "      <td>24</td>\n",
       "      <td>N</td>\n",
       "      <td>E</td>\n",
       "      <td>76</td>\n",
       "      <td>127</td>\n",
       "      <td>7</td>\n",
       "      <td>70.0</td>\n",
       "      <td>A</td>\n",
       "    </tr>\n",
       "    <tr>\n",
       "      <th>7</th>\n",
       "      <td>298</td>\n",
       "      <td>73</td>\n",
       "      <td>0</td>\n",
       "      <td>24</td>\n",
       "      <td>24</td>\n",
       "      <td>7</td>\n",
       "      <td>3</td>\n",
       "      <td>509</td>\n",
       "      <td>108</td>\n",
       "      <td>0</td>\n",
       "      <td>41</td>\n",
       "      <td>37</td>\n",
       "      <td>12</td>\n",
       "      <td>A</td>\n",
       "      <td>W</td>\n",
       "      <td>121</td>\n",
       "      <td>283</td>\n",
       "      <td>9</td>\n",
       "      <td>100.0</td>\n",
       "      <td>A</td>\n",
       "    </tr>\n",
       "    <tr>\n",
       "      <th>8</th>\n",
       "      <td>323</td>\n",
       "      <td>81</td>\n",
       "      <td>6</td>\n",
       "      <td>26</td>\n",
       "      <td>32</td>\n",
       "      <td>8</td>\n",
       "      <td>2</td>\n",
       "      <td>341</td>\n",
       "      <td>86</td>\n",
       "      <td>6</td>\n",
       "      <td>32</td>\n",
       "      <td>34</td>\n",
       "      <td>8</td>\n",
       "      <td>N</td>\n",
       "      <td>W</td>\n",
       "      <td>143</td>\n",
       "      <td>290</td>\n",
       "      <td>19</td>\n",
       "      <td>75.0</td>\n",
       "      <td>N</td>\n",
       "    </tr>\n",
       "    <tr>\n",
       "      <th>9</th>\n",
       "      <td>401</td>\n",
       "      <td>92</td>\n",
       "      <td>17</td>\n",
       "      <td>49</td>\n",
       "      <td>66</td>\n",
       "      <td>65</td>\n",
       "      <td>13</td>\n",
       "      <td>5206</td>\n",
       "      <td>1332</td>\n",
       "      <td>253</td>\n",
       "      <td>784</td>\n",
       "      <td>890</td>\n",
       "      <td>866</td>\n",
       "      <td>A</td>\n",
       "      <td>E</td>\n",
       "      <td>0</td>\n",
       "      <td>0</td>\n",
       "      <td>0</td>\n",
       "      <td>1100.0</td>\n",
       "      <td>A</td>\n",
       "    </tr>\n",
       "  </tbody>\n",
       "</table>\n",
       "</div>"
      ],
      "text/plain": [
       "   AtBat  Hits  HmRun  Runs  RBI  Walks  Years  CAtBat  CHits  CHmRun  CRuns  \\\n",
       "0    293    66      1    30   29     14      1     293     66       1     30   \n",
       "1    315    81      7    24   38     39     14    3449    835      69    321   \n",
       "2    479   130     18    66   72     76      3    1624    457      63    224   \n",
       "3    496   141     20    65   78     37     11    5628   1575     225    828   \n",
       "4    321    87     10    39   42     30      2     396    101      12     48   \n",
       "5    594   169      4    74   51     35     11    4408   1133      19    501   \n",
       "6    185    37      1    23    8     21      2     214     42       1     30   \n",
       "7    298    73      0    24   24      7      3     509    108       0     41   \n",
       "8    323    81      6    26   32      8      2     341     86       6     32   \n",
       "9    401    92     17    49   66     65     13    5206   1332     253    784   \n",
       "\n",
       "   CRBI  CWalks League Division  PutOuts  Assists  Errors  Salary NewLeague  \n",
       "0    29      14      A        E      446       33      20     NaN         A  \n",
       "1   414     375      N        W      632       43      10   475.0         N  \n",
       "2   266     263      A        W      880       82      14   480.0         A  \n",
       "3   838     354      N        E      200       11       3   500.0         N  \n",
       "4    46      33      N        E      805       40       4    91.5         N  \n",
       "5   336     194      A        W      282      421      25   750.0         A  \n",
       "6     9      24      N        E       76      127       7    70.0         A  \n",
       "7    37      12      A        W      121      283       9   100.0         A  \n",
       "8    34       8      N        W      143      290      19    75.0         N  \n",
       "9   890     866      A        E        0        0       0  1100.0         A  "
      ]
     },
     "execution_count": 1,
     "metadata": {},
     "output_type": "execute_result"
    }
   ],
   "source": [
    "import pandas as pd\n",
    "\n",
    "train = pd.read_csv('data/Hitters.csv')\n",
    "train.head(10)"
   ]
  },
  {
   "cell_type": "markdown",
   "metadata": {},
   "source": [
    "#### Replace missing values in the dataset by the mean"
   ]
  },
  {
   "cell_type": "code",
   "execution_count": 2,
   "metadata": {},
   "outputs": [
    {
     "data": {
      "text/plain": [
       "AtBat         0\n",
       "Hits          0\n",
       "HmRun         0\n",
       "Runs          0\n",
       "RBI           0\n",
       "Walks         0\n",
       "Years         0\n",
       "CAtBat        0\n",
       "CHits         0\n",
       "CHmRun        0\n",
       "CRuns         0\n",
       "CRBI          0\n",
       "CWalks        0\n",
       "League        0\n",
       "Division      0\n",
       "PutOuts       0\n",
       "Assists       0\n",
       "Errors        0\n",
       "Salary       59\n",
       "NewLeague     0\n",
       "dtype: int64"
      ]
     },
     "execution_count": 2,
     "metadata": {},
     "output_type": "execute_result"
    }
   ],
   "source": [
    "train.isnull().sum()"
   ]
  },
  {
   "cell_type": "code",
   "execution_count": 3,
   "metadata": {},
   "outputs": [],
   "source": [
    "train = train.fillna(train.mean())"
   ]
  },
  {
   "cell_type": "code",
   "execution_count": 4,
   "metadata": {},
   "outputs": [
    {
     "data": {
      "text/plain": [
       "0"
      ]
     },
     "execution_count": 4,
     "metadata": {},
     "output_type": "execute_result"
    }
   ],
   "source": [
    "train.isnull().sum().sum()"
   ]
  },
  {
   "cell_type": "markdown",
   "metadata": {},
   "source": [
    "#### Graph a scatter plot to visualize the relationship between Hits and Salary"
   ]
  },
  {
   "cell_type": "code",
   "execution_count": 5,
   "metadata": {},
   "outputs": [
    {
     "data": {
      "image/png": "[encoded data removed]",
      "text/plain": [
       "<Figure size 432x432 with 1 Axes>"
      ]
     },
     "metadata": {
      "needs_background": "light"
     },
     "output_type": "display_data"
    }
   ],
   "source": [
    "import matplotlib.pyplot as plt\n",
    "%matplotlib inline\n",
    "\n",
    "fig,ax = plt.subplots(figsize=(6,6))\n",
    "\n",
    "ax.scatter(train['Hits'], train['Salary'], alpha=0.5)\n",
    "\n",
    "ax.set_ylabel('Salary')\n",
    "ax.set_xlabel('Hits')\n",
    "\n",
    "plt.show()"
   ]
  },
  {
   "cell_type": "markdown",
   "metadata": {},
   "source": [
    "#### Apply Linear Regression on the Hitters data to predict 'Salary' depending only on 'Hits' as the independent variable. Print out the slope and intercept coefficients."
   ]
  },
  {
   "cell_type": "code",
   "execution_count": 6,
   "metadata": {},
   "outputs": [
    {
     "name": "stdout",
     "output_type": "stream",
     "text": [
      "Model: intercept = 234.48, slope = 3.10\n"
     ]
    }
   ],
   "source": [
    "from sklearn.linear_model import LinearRegression\n",
    "from sklearn.model_selection import train_test_split\n",
    "\n",
    "# Split the data into 70/30 train/test datasets\n",
    "target = 'Salary'\n",
    "features = 'Hits'\n",
    "\n",
    "X = train[features].values\n",
    "y = train[target].values\n",
    "\n",
    "X_train, X_test, y_train, y_test = train_test_split(X, y, test_size=0.30, random_state=23)\n",
    "\n",
    "# Fit linear regression model\n",
    "lr = LinearRegression(normalize=False).fit(X_train.reshape(-1, 1), y_train.reshape(-1, 1) )\n",
    "\n",
    "# Print the slope and intercept\n",
    "print(\"Model: intercept = %.2f, slope = %.2f\" % (lr.intercept_, lr.coef_[0]))"
   ]
  },
  {
   "cell_type": "markdown",
   "metadata": {},
   "source": [
    "#### Compute the RMSE of the model obtained above"
   ]
  },
  {
   "cell_type": "code",
   "execution_count": 7,
   "metadata": {},
   "outputs": [
    {
     "name": "stdout",
     "output_type": "stream",
     "text": [
      "Root Mean Squared Error: train set = 404.7, test set = 299.0\n"
     ]
    }
   ],
   "source": [
    "from sklearn.metrics import mean_squared_error\n",
    "from math import sqrt\n",
    "\n",
    "y_pred_lr_train = lr.predict(X_train.reshape(-1, 1))\n",
    "y_pred_lr_test = lr.predict(X_test.reshape(-1, 1))\n",
    "\n",
    "#Compute the RMSE \n",
    "rmse_lr_train = sqrt(mean_squared_error(y_train, y_pred_lr_train))\n",
    "rmse_lr_test = sqrt(mean_squared_error(y_test, y_pred_lr_test))\n",
    "\n",
    "print(\"Root Mean Squared Error: train set = %.1f, test set = %.1f\" % (rmse_lr_train, rmse_lr_test))"
   ]
  },
  {
   "cell_type": "markdown",
   "metadata": {},
   "source": [
    "#### Graph the linear regression model obtained on the data"
   ]
  },
  {
   "cell_type": "code",
   "execution_count": 8,
   "metadata": {
    "scrolled": false
   },
   "outputs": [
    {
     "data": {
      "image/png": "[encoded data removed]",
      "text/plain": [
       "<Figure size 432x432 with 1 Axes>"
      ]
     },
     "metadata": {
      "needs_background": "light"
     },
     "output_type": "display_data"
    }
   ],
   "source": [
    "import numpy as np\n",
    "\n",
    "x_values = np.arange(min(X_test), max(X_test), 5)\n",
    "y_values = lr.predict(x_values.reshape(-1,1))\n",
    "\n",
    "fig,ax = plt.subplots(figsize=(6,6))\n",
    "\n",
    "ax.scatter(X_test, y_test, alpha=0.5, label='Test Data')\n",
    "\n",
    "ax.plot(x_values, y_values, color='black', linestyle='--', label='Regression Fit')\n",
    "\n",
    "ax.set_ylabel('Salary')\n",
    "ax.set_xlabel('Hits')\n",
    "\n",
    "leg = ax.legend()\n",
    "\n",
    "plt.show()"
   ]
  },
  {
   "cell_type": "markdown",
   "metadata": {},
   "source": [
    "#### Construct a polynomial regression model with degree 2 to predict 'Salary' depending only on 'Hits' as the independent variable. Compute the RMSE and Plot your result."
   ]
  },
  {
   "cell_type": "code",
   "execution_count": 9,
   "metadata": {},
   "outputs": [
    {
     "name": "stdout",
     "output_type": "stream",
     "text": [
      "Root Mean Squared Error: test set = 293.0\n"
     ]
    },
    {
     "data": {
      "image/png": "[encoded data removed]",
      "text/plain": [
       "<Figure size 432x432 with 1 Axes>"
      ]
     },
     "metadata": {
      "needs_background": "light"
     },
     "output_type": "display_data"
    }
   ],
   "source": [
    "# Generate weights for polynomial function with degree 2\n",
    "weights = np.polyfit(X_train, y_train, 2)\n",
    "\n",
    "# Generate model with the given weights\n",
    "poly_model = np.poly1d(weights)\n",
    "\n",
    "# Prediction on test set\n",
    "y_pred_p2_test = poly_model(X_test)\n",
    "\n",
    "# Compute the RMSE\n",
    "rmse_p2_test = sqrt(mean_squared_error(y_test, y_pred_p2_test))\n",
    "\n",
    "print(\"Root Mean Squared Error: test set = %.1f\" % (rmse_p2_test))\n",
    "\n",
    "# Plot the visualisation\n",
    "x_values = np.arange(min(X_test), max(X_test), 5)\n",
    "y_values = poly_model(x_values)\n",
    "\n",
    "fig,ax = plt.subplots(figsize=(6,6))\n",
    "\n",
    "ax.scatter(X_test, y_test, alpha=0.5, label='Test Data')\n",
    "\n",
    "ax.plot(x_values, y_values, color='black', linestyle='--', label='Polynomial Fit')\n",
    "\n",
    "ax.set_ylabel('Salary')\n",
    "ax.set_xlabel('Hits')\n",
    "\n",
    "leg = ax.legend()\n",
    "\n",
    "plt.show()"
   ]
  },
  {
   "cell_type": "markdown",
   "metadata": {},
   "source": [
    "####  Create a cubic spline with 3 knots at 40, 100 and 150\n"
   ]
  },
  {
   "cell_type": "code",
   "execution_count": 10,
   "metadata": {},
   "outputs": [
    {
     "name": "stdout",
     "output_type": "stream",
     "text": [
      "Root Mean Squared Error: test set = 331.6\n"
     ]
    },
    {
     "data": {
      "image/png": "[encoded data removed]",
      "text/plain": [
       "<Figure size 432x432 with 1 Axes>"
      ]
     },
     "metadata": {
      "needs_background": "light"
     },
     "output_type": "display_data"
    }
   ],
   "source": [
    "from patsy import dmatrix\n",
    "import statsmodels.api as sm\n",
    "import statsmodels.formula.api as smf\n",
    "\n",
    "# Generate a cubic spline with 3 knots at 40, 100 and 150\n",
    "transformed_x = dmatrix(\"bs(X_train, knots=(40, 100, 150), degree=3, include_intercept=False)\", \n",
    "                        {\"train\": X_train}, return_type='dataframe')\n",
    "\n",
    "# Fit a generalized linear models on the transformed dataset\n",
    "fit_glm = sm.GLM(y_train, transformed_x).fit()\n",
    "\n",
    "# Prediction\n",
    "y_pred_3knot_glm_test = fit_glm.predict(dmatrix(\"bs(valid, knots=(40, 100, 150),degree =3, include_intercept=False)\", \n",
    "                                                {\"valid\": X_test}, return_type='dataframe'))\n",
    "\n",
    "# Compute the RMSE \n",
    "rmse_3knot_glm_test = sqrt(mean_squared_error(y_test, y_pred_3knot_glm_test))\n",
    "\n",
    "print(\"Root Mean Squared Error: test set = %.1f\" % (rmse_3knot_glm_test))\n",
    "\n",
    "# Plot the visualisation\n",
    "x_values = np.arange(min(X_test), max(X_test), 5)\n",
    "y_values = fit_glm.predict(dmatrix(\"bs(valid, knots=(40, 100, 150),degree =3, include_intercept=False)\", \n",
    "                                   {\"valid\": x_values}, return_type='dataframe'))\n",
    "\n",
    "fig,ax = plt.subplots(figsize=(6,6))\n",
    "\n",
    "ax.scatter(X_test, y_test, alpha=0.5, label='Test Data')\n",
    "\n",
    "ax.plot(x_values, y_values, color='black', linestyle='--', label='Spline Fit')\n",
    "\n",
    "ax.set_ylabel('Salary')\n",
    "ax.set_xlabel('Hits')\n",
    "\n",
    "leg = ax.legend()\n",
    "\n",
    "plt.show()"
   ]
  },
  {
   "cell_type": "markdown",
   "metadata": {},
   "source": [
    "#### Create a natural cubic spline on the data to predict 'Salary' based on 'Hits'"
   ]
  },
  {
   "cell_type": "code",
   "execution_count": 11,
   "metadata": {},
   "outputs": [
    {
     "name": "stdout",
     "output_type": "stream",
     "text": [
      "Root Mean Squared Error: test set = 296.5\n"
     ]
    },
    {
     "data": {
      "image/png": "[encoded data removed]",
      "text/plain": [
       "<Figure size 432x432 with 1 Axes>"
      ]
     },
     "metadata": {
      "needs_background": "light"
     },
     "output_type": "display_data"
    }
   ],
   "source": [
    "# Generate natural cubic spline\n",
    "transformed_x = dmatrix(\"cr(X_train,df = 3)\", {\"train\": X_train}, return_type='dataframe')\n",
    "fit_spline = sm.GLM(y_train, transformed_x).fit()\n",
    "\n",
    "# Prediction\n",
    "y_pred_natural_glm_test = fit_spline.predict(dmatrix(\"cr(X_test, df=3)\", {\"test\": X_test}, return_type='dataframe'))\n",
    "\n",
    "# Compute the RMSE \n",
    "rmse_natural_glm_test = sqrt(mean_squared_error(y_test, y_pred_natural_glm_test))\n",
    "\n",
    "print(\"Root Mean Squared Error: test set = %.1f\" % (rmse_natural_glm_test))\n",
    "\n",
    "# Plot the visualisation\n",
    "x_values = np.arange(min(X_test), max(X_test), 5)\n",
    "y_values = fit_spline.predict(dmatrix(\"cr(x_values, df=3)\", {\"x_values\": x_values}, return_type='dataframe'))\n",
    "\n",
    "fig,ax = plt.subplots(figsize=(6,6))\n",
    "\n",
    "ax.scatter(X_test, y_test, alpha=0.5, label='Test Data')\n",
    "\n",
    "ax.plot(x_values, y_values, color='black', linestyle='--', label='Natural Spline Fit')\n",
    "\n",
    "ax.set_ylabel('Salary')\n",
    "ax.set_xlabel('Hits')\n",
    "\n",
    "leg = ax.legend()\n",
    "\n",
    "plt.show()"
   ]
  },
  {
   "cell_type": "markdown",
   "metadata": {},
   "source": [
    "#### Which model performed the best?"
   ]
  },
  {
   "cell_type": "code",
   "execution_count": 12,
   "metadata": {
    "scrolled": false
   },
   "outputs": [
    {
     "name": "stdout",
     "output_type": "stream",
     "text": [
      "   Linear Regression, RMSE = 299.0\n",
      "       Quadratic Fit, RMSE = 293.0\n",
      "          Spline Fit, RMSE = 331.6\n",
      "  Natural Spline Fit, RMSE = 296.5\n"
     ]
    }
   ],
   "source": [
    "preds = {}\n",
    "preds['Linear Regression']  = rmse_lr_test\n",
    "preds['Quadratic Fit']      = rmse_p2_test\n",
    "preds['Spline Fit']         = rmse_3knot_glm_test\n",
    "preds['Natural Spline Fit'] = rmse_natural_glm_test\n",
    "\n",
    "for label, rmse in preds.items():\n",
    "    print('%20s, RMSE = %.1f' % (label, rmse))"
   ]
  },
  {
   "cell_type": "markdown",
   "metadata": {},
   "source": [
    "The non-linear methods perform better than the linear fit, which is expected, due to the non-linear nature of the data. Both the quadratic and natural spline fit have a lower RMSE than the linear fit. Only the spline fit has a worse RMSE. However, that one had the three knots pre-chosen without been calculated from the data."
   ]
  }
 ],
 "metadata": {
  "kernelspec": {
   "display_name": "Python 3",
   "language": "python",
   "name": "python3"
  },
  "language_info": {
   "codemirror_mode": {
    "name": "ipython",
    "version": 3
   },
   "file_extension": ".py",
   "mimetype": "text/x-python",
   "name": "python",
   "nbconvert_exporter": "python",
   "pygments_lexer": "ipython3",
   "version": "3.7.0"
  }
 },
 "nbformat": 4,
 "nbformat_minor": 2
}
