{
 "cells": [
  {
   "cell_type": "markdown",
   "metadata": {
    "collapsed": true
   },
   "source": [
    "# Assignment 9: Bayesian Analysis"
   ]
  },
  {
   "cell_type": "markdown",
   "metadata": {},
   "source": [
    "### Conditional Probability "
   ]
  },
  {
   "cell_type": "markdown",
   "metadata": {},
   "source": [
    "Q.1. Let's say there are about 8.6 million people living in New-York and about 56 % of them speak Spanish. Let's also assume there are about 7.5 billion people on earth.\n",
    "\n",
    "If I randomly pick someone living on Earth (an Earthian?), what are the chances that this person is a Spanish speaking New-Yorker?\n",
    "\n",
    "Q.2 Explain in few terms what is Naive Bayes. What is it considered Naive?\n",
    "\n",
    "Q.3 Let's suppose we have a Deck of Cards (52 cards). We pick a card at random. What is the probability of the card we picked being a king, given that it is a face card. "
   ]
  },
  {
   "cell_type": "markdown",
   "metadata": {
    "collapsed": true
   },
   "source": [
    "### A.1\n",
    "p(x,y): Probability that random person on Earth is speaks Spanish (x) and lives in New York (y).<br />\n",
    "p(x|y): Probability that person speaks Spanish (x) given that they live in New York (y).<br />\n",
    "p(y): Probability that person lives in New York (y).<br />\n",
    "<br />\n",
    "p(x,y) = p(x|y) * p(y) = 0.56 * (8.6e6 / 7.5e9) * 100.<br />\n",
    "p(x,y) = 0.064%<br />\n",
    "\n",
    "\n",
    "### A.2\n",
    "Bayes classifiers are probabilistic classifiers that are able to predict the probability distribution over a set of classes. They are Bayesian, because they apply Bayes' theorem to determine the conditional probability. Naive Bayes classifiers are considered naive, because they assume that all of the features are independent of each other.\n",
    "\n",
    "\n",
    "### A.3\n",
    "There are three face cards: king, queen, jack. There are an equal number of each face cards (4) in a standard deck of cards (52). Since the three face cards are each equally probable of being selected, the probability of picking a king, given that it is a face card, is 1/3 or 33.3%."
   ]
  },
  {
   "cell_type": "code",
   "execution_count": 1,
   "metadata": {},
   "outputs": [
    {
     "name": "stdout",
     "output_type": "stream",
     "text": [
      "<class 'pandas.core.frame.DataFrame'>\n",
      "RangeIndex: 1841 entries, 0 to 1840\n",
      "Data columns (total 6 columns):\n",
      "Rash                       1841 non-null object\n",
      "SwollenLymphNode           1841 non-null object\n",
      "Chills                     1841 non-null object\n",
      "PolymeraseChainReaction    1841 non-null object\n",
      "VZVAntibodyTest            1841 non-null object\n",
      "Blisters                   1841 non-null object\n",
      "dtypes: object(6)\n",
      "memory usage: 86.4+ KB\n",
      "None\n"
     ]
    },
    {
     "data": {
      "text/html": [
       "<div>\n",
       "<style scoped>\n",
       "    .dataframe tbody tr th:only-of-type {\n",
       "        vertical-align: middle;\n",
       "    }\n",
       "\n",
       "    .dataframe tbody tr th {\n",
       "        vertical-align: top;\n",
       "    }\n",
       "\n",
       "    .dataframe thead th {\n",
       "        text-align: right;\n",
       "    }\n",
       "</style>\n",
       "<table border=\"1\" class=\"dataframe\">\n",
       "  <thead>\n",
       "    <tr style=\"text-align: right;\">\n",
       "      <th></th>\n",
       "      <th>Rash</th>\n",
       "      <th>SwollenLymphNode</th>\n",
       "      <th>Chills</th>\n",
       "      <th>PolymeraseChainReaction</th>\n",
       "      <th>VZVAntibodyTest</th>\n",
       "      <th>Blisters</th>\n",
       "    </tr>\n",
       "  </thead>\n",
       "  <tbody>\n",
       "    <tr>\n",
       "      <th>0</th>\n",
       "      <td>no</td>\n",
       "      <td>no</td>\n",
       "      <td>no</td>\n",
       "      <td>no</td>\n",
       "      <td>pos</td>\n",
       "      <td>no</td>\n",
       "    </tr>\n",
       "    <tr>\n",
       "      <th>1</th>\n",
       "      <td>yes</td>\n",
       "      <td>no</td>\n",
       "      <td>no</td>\n",
       "      <td>no</td>\n",
       "      <td>neg</td>\n",
       "      <td>no</td>\n",
       "    </tr>\n",
       "    <tr>\n",
       "      <th>2</th>\n",
       "      <td>no</td>\n",
       "      <td>no</td>\n",
       "      <td>no</td>\n",
       "      <td>no</td>\n",
       "      <td>neg</td>\n",
       "      <td>no</td>\n",
       "    </tr>\n",
       "    <tr>\n",
       "      <th>3</th>\n",
       "      <td>no</td>\n",
       "      <td>no</td>\n",
       "      <td>no</td>\n",
       "      <td>no</td>\n",
       "      <td>neg</td>\n",
       "      <td>no</td>\n",
       "    </tr>\n",
       "    <tr>\n",
       "      <th>4</th>\n",
       "      <td>no</td>\n",
       "      <td>no</td>\n",
       "      <td>no</td>\n",
       "      <td>no</td>\n",
       "      <td>neg</td>\n",
       "      <td>no</td>\n",
       "    </tr>\n",
       "  </tbody>\n",
       "</table>\n",
       "</div>"
      ],
      "text/plain": [
       "  Rash SwollenLymphNode Chills PolymeraseChainReaction VZVAntibodyTest  \\\n",
       "0   no               no     no                      no             pos   \n",
       "1  yes               no     no                      no             neg   \n",
       "2   no               no     no                      no             neg   \n",
       "3   no               no     no                      no             neg   \n",
       "4   no               no     no                      no             neg   \n",
       "\n",
       "  Blisters  \n",
       "0       no  \n",
       "1       no  \n",
       "2       no  \n",
       "3       no  \n",
       "4       no  "
      ]
     },
     "execution_count": 1,
     "metadata": {},
     "output_type": "execute_result"
    }
   ],
   "source": [
    "import pandas as pd\n",
    "\n",
    "data = pd.read_csv('data/shingles.csv')\n",
    "print(data.info())\n",
    "data.head()"
   ]
  },
  {
   "cell_type": "markdown",
   "metadata": {},
   "source": [
    "Q.4. Does this data contain any missing values?"
   ]
  },
  {
   "cell_type": "code",
   "execution_count": 2,
   "metadata": {},
   "outputs": [
    {
     "data": {
      "text/plain": [
       "Rash                       0\n",
       "SwollenLymphNode           0\n",
       "Chills                     0\n",
       "PolymeraseChainReaction    0\n",
       "VZVAntibodyTest            0\n",
       "Blisters                   0\n",
       "dtype: int64"
      ]
     },
     "execution_count": 2,
     "metadata": {},
     "output_type": "execute_result"
    }
   ],
   "source": [
    "data.isnull().sum()"
   ]
  },
  {
   "cell_type": "markdown",
   "metadata": {},
   "source": [
    "No, the data does not contain any missing values."
   ]
  },
  {
   "cell_type": "markdown",
   "metadata": {},
   "source": [
    "Q.5. Split the data into 70/30 train test"
   ]
  },
  {
   "cell_type": "code",
   "execution_count": 3,
   "metadata": {},
   "outputs": [
    {
     "data": {
      "text/plain": [
       "array(['no', 'pos', 'yes', 'neg', 'po'], dtype=object)"
      ]
     },
     "execution_count": 3,
     "metadata": {},
     "output_type": "execute_result"
    }
   ],
   "source": [
    "data.stack().unique()"
   ]
  },
  {
   "cell_type": "code",
   "execution_count": 4,
   "metadata": {},
   "outputs": [],
   "source": [
    "from sklearn.model_selection import train_test_split\n",
    "\n",
    "data = data.replace({'no': 0, 'pos': 1, 'yes': 1, 'neg': 0, 'po': 1})\n",
    "\n",
    "target = 'VZVAntibodyTest'\n",
    "features = list(data.drop(target,axis=1).columns.values)\n",
    "\n",
    "X = data[features]\n",
    "y = data[target]\n",
    "\n",
    "X_train, X_test, y_train, y_test = train_test_split(X, y, test_size=0.30, random_state=23)"
   ]
  },
  {
   "cell_type": "code",
   "execution_count": 5,
   "metadata": {},
   "outputs": [
    {
     "data": {
      "text/plain": [
       "array([0, 1], dtype=int64)"
      ]
     },
     "execution_count": 5,
     "metadata": {},
     "output_type": "execute_result"
    }
   ],
   "source": [
    "data.stack().unique()"
   ]
  },
  {
   "cell_type": "markdown",
   "metadata": {},
   "source": [
    "Q.6. Train a Gaussian Naive Bayes model, a Multinomial Naive Bayes and a Bernoulli Naive Bayes on the dataset. Compute the accuracy for each. Explain your results. "
   ]
  },
  {
   "cell_type": "code",
   "execution_count": 6,
   "metadata": {},
   "outputs": [
    {
     "name": "stdout",
     "output_type": "stream",
     "text": [
      "Gaussian Naive Bayes Accuracy Score    = 0.609\n",
      "Multinomial Naive Bayes Accuracy Score = 0.584\n",
      "Bernoulli Naive Bayes Accuracy Score   = 0.618\n"
     ]
    }
   ],
   "source": [
    "from sklearn.naive_bayes import GaussianNB, MultinomialNB, BernoulliNB\n",
    "\n",
    "from sklearn.metrics import accuracy_score \n",
    "\n",
    "## Gaussian Naive Bayes\n",
    "gnb = GaussianNB().fit(X_train, y_train)\n",
    "\n",
    "y_pred_gnb = gnb.predict(X_test)\n",
    "accuracy_gnb = accuracy_score(y_test, y_pred_gnb)\n",
    "\n",
    "## Multinomial Naive Bayes\n",
    "mnb = MultinomialNB().fit(X_train, y_train)\n",
    "\n",
    "y_pred_mnb = mnb.predict(X_test)\n",
    "accuracy_mnb = accuracy_score(y_test, y_pred_mnb)\n",
    "\n",
    "## Bernoulli Naive Bayes\n",
    "bnb = BernoulliNB().fit(X_train, y_train)\n",
    "\n",
    "y_pred_bnb = bnb.predict(X_test)\n",
    "accuracy_bnb = accuracy_score(y_test, y_pred_bnb)\n",
    "\n",
    "\n",
    "## Accuracy Scores\n",
    "print(\"Gaussian Naive Bayes Accuracy Score    = %.3f\" % (accuracy_gnb))\n",
    "print(\"Multinomial Naive Bayes Accuracy Score = %.3f\" % (accuracy_mnb))\n",
    "print(\"Bernoulli Naive Bayes Accuracy Score   = %.3f\" % (accuracy_bnb))\n",
    "\n",
    "## Comments\n",
    "#Each of these NB models have roughly similar accuraccies."
   ]
  },
  {
   "cell_type": "markdown",
   "metadata": {},
   "source": [
    "## Inference in Bayesian networks"
   ]
  },
  {
   "cell_type": "markdown",
   "metadata": {},
   "source": [
    "Q.7. Imagine you are at party on Sunday and have an exam on Monday.  If you drink\n",
    "too much alcolhol at the birthday party, you most likely have problems concentrating the next day, which\n",
    "would reduce the probability that you pass the exam.  Another consequence of the reduced concentration\n",
    "might be increased stress with your roommate.\n",
    "\n",
    "Consider the following random variables that can assume the values \"true\" or \"false\":\n",
    "A:  drinking too much alcolhol on Sunday;\n",
    "B:  Dairy allergy strikes;\n",
    "C:  reduced concentration on Monday;\n",
    "D:  you pass the exam;\n",
    "E:  stress with your roommates.\n",
    "\n",
    "a) Draw the corresponding Bayesian network.\n",
    "\n",
    "b) Search for conditional dependencies and independencies."
   ]
  },
  {
   "cell_type": "code",
   "execution_count": 7,
   "metadata": {},
   "outputs": [],
   "source": [
    "import matplotlib.pyplot as plt\n",
    "%matplotlib inline"
   ]
  },
  {
   "cell_type": "code",
   "execution_count": 8,
   "metadata": {},
   "outputs": [],
   "source": [
    "def plot_circle(ax_, x_, y_, lx_, ly_, label_):\n",
    "    ax_.add_artist(plt.Circle((x_, y_), 0.13, color='blue', fill=False, linewidth=2))\n",
    "    ax_.text(lx_, ly_, label_, size=15, horizontalalignment='center')\n",
    "\n",
    "def plot_arrow(ax_, x_, y_, dx_, dy_):\n",
    "    ax_.arrow(x_, y_, dx_, dy_, head_width=0.02, head_length=0.02, fc='k', ec='k', linewidth=2)"
   ]
  },
  {
   "cell_type": "markdown",
   "metadata": {},
   "source": [
    "### a) Bayesian Network Diagram"
   ]
  },
  {
   "cell_type": "code",
   "execution_count": 9,
   "metadata": {},
   "outputs": [
    {
     "data": {
      "image/png": "[encoded data removed]",
      "text/plain": [
       "<Figure size 576x576 with 1 Axes>"
      ]
     },
     "metadata": {
      "needs_background": "light"
     },
     "output_type": "display_data"
    }
   ],
   "source": [
    "fig, ax = plt.subplots(figsize=(8,8))\n",
    "\n",
    "plot_circle(ax, 0.2, 0.8, 0.2, 0.77, 'Drinking\\ntoo much')\n",
    "plot_circle(ax, 0.5, 0.5, 0.5, 0.48, 'Reduced\\nConcentration')\n",
    "plot_circle(ax, 0.8, 0.8, 0.8, 0.75, 'Dairy\\nAllergy\\nStrikes')\n",
    "plot_circle(ax, 0.2, 0.2, 0.2, 0.17, 'Conflict with\\nRoomate')\n",
    "plot_circle(ax, 0.8, 0.2, 0.8, 0.19, 'Pass Exam')\n",
    "\n",
    "plot_arrow(ax, 0.298, 0.71, 0.097, -0.097)\n",
    "plot_arrow(ax, 0.6, 0.41, 0.095, -0.095)\n",
    "plot_arrow(ax, 0.7, 0.71, -0.095, -0.095)\n",
    "plot_arrow(ax, 0.4, 0.41, -0.095, -0.095)\n",
    "\n",
    "plt.axis('off')\n",
    "plt.show()"
   ]
  },
  {
   "cell_type": "markdown",
   "metadata": {},
   "source": [
    "### b) Search for conditional dependencies and independencies.\n",
    "\n",
    "The variables A: Drinking too much and B: Dairy allergy strikes are both independencies. They do not depend on any of the other conditions included in the Bayesian network here. The variable C: Reduced concentration conditionally depends on both variables A and B. Both variables D: pass the exam and E: stress with your roommate both conditionally depend upon variable C."
   ]
  }
 ],
 "metadata": {
  "kernelspec": {
   "display_name": "Python 3",
   "language": "python",
   "name": "python3"
  },
  "language_info": {
   "codemirror_mode": {
    "name": "ipython",
    "version": 3
   },
   "file_extension": ".py",
   "mimetype": "text/x-python",
   "name": "python",
   "nbconvert_exporter": "python",
   "pygments_lexer": "ipython3",
   "version": "3.7.0"
  }
 },
 "nbformat": 4,
 "nbformat_minor": 2
}
