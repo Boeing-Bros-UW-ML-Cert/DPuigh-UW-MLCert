{
 "cells": [
  {
   "cell_type": "markdown",
   "metadata": {},
   "source": [
    "# ML210-Assignment 6: Resampling Methods"
   ]
  },
  {
   "cell_type": "markdown",
   "metadata": {
    "collapsed": true
   },
   "source": [
    "Dataset needed:\n",
    "UCI Airfoil Self-Noise Data Set  (https://archive.ics.uci.edu/ml/datasets/diabetes)\n"
   ]
  },
  {
   "cell_type": "code",
   "execution_count": 1,
   "metadata": {},
   "outputs": [
    {
     "name": "stdout",
     "output_type": "stream",
     "text": [
      "<class 'pandas.core.frame.DataFrame'>\n",
      "RangeIndex: 768 entries, 0 to 767\n",
      "Data columns (total 9 columns):\n",
      "Pregnancies                 768 non-null int64\n",
      "Glucose                     768 non-null int64\n",
      "BloodPressure               768 non-null int64\n",
      "SkinThickness               768 non-null int64\n",
      "Insulin                     768 non-null int64\n",
      "BMI                         768 non-null float64\n",
      "DiabetesPedigreeFunction    768 non-null float64\n",
      "Age                         768 non-null int64\n",
      "Outcome                     768 non-null int64\n",
      "dtypes: float64(2), int64(7)\n",
      "memory usage: 54.1 KB\n",
      "None\n"
     ]
    },
    {
     "data": {
      "text/html": [
       "<div>\n",
       "<style scoped>\n",
       "    .dataframe tbody tr th:only-of-type {\n",
       "        vertical-align: middle;\n",
       "    }\n",
       "\n",
       "    .dataframe tbody tr th {\n",
       "        vertical-align: top;\n",
       "    }\n",
       "\n",
       "    .dataframe thead th {\n",
       "        text-align: right;\n",
       "    }\n",
       "</style>\n",
       "<table border=\"1\" class=\"dataframe\">\n",
       "  <thead>\n",
       "    <tr style=\"text-align: right;\">\n",
       "      <th></th>\n",
       "      <th>Pregnancies</th>\n",
       "      <th>Glucose</th>\n",
       "      <th>BloodPressure</th>\n",
       "      <th>SkinThickness</th>\n",
       "      <th>Insulin</th>\n",
       "      <th>BMI</th>\n",
       "      <th>DiabetesPedigreeFunction</th>\n",
       "      <th>Age</th>\n",
       "      <th>Outcome</th>\n",
       "    </tr>\n",
       "  </thead>\n",
       "  <tbody>\n",
       "    <tr>\n",
       "      <th>0</th>\n",
       "      <td>6</td>\n",
       "      <td>148</td>\n",
       "      <td>72</td>\n",
       "      <td>35</td>\n",
       "      <td>0</td>\n",
       "      <td>33.6</td>\n",
       "      <td>0.627</td>\n",
       "      <td>50</td>\n",
       "      <td>1</td>\n",
       "    </tr>\n",
       "    <tr>\n",
       "      <th>1</th>\n",
       "      <td>1</td>\n",
       "      <td>85</td>\n",
       "      <td>66</td>\n",
       "      <td>29</td>\n",
       "      <td>0</td>\n",
       "      <td>26.6</td>\n",
       "      <td>0.351</td>\n",
       "      <td>31</td>\n",
       "      <td>0</td>\n",
       "    </tr>\n",
       "    <tr>\n",
       "      <th>2</th>\n",
       "      <td>8</td>\n",
       "      <td>183</td>\n",
       "      <td>64</td>\n",
       "      <td>0</td>\n",
       "      <td>0</td>\n",
       "      <td>23.3</td>\n",
       "      <td>0.672</td>\n",
       "      <td>32</td>\n",
       "      <td>1</td>\n",
       "    </tr>\n",
       "    <tr>\n",
       "      <th>3</th>\n",
       "      <td>1</td>\n",
       "      <td>89</td>\n",
       "      <td>66</td>\n",
       "      <td>23</td>\n",
       "      <td>94</td>\n",
       "      <td>28.1</td>\n",
       "      <td>0.167</td>\n",
       "      <td>21</td>\n",
       "      <td>0</td>\n",
       "    </tr>\n",
       "    <tr>\n",
       "      <th>4</th>\n",
       "      <td>0</td>\n",
       "      <td>137</td>\n",
       "      <td>40</td>\n",
       "      <td>35</td>\n",
       "      <td>168</td>\n",
       "      <td>43.1</td>\n",
       "      <td>2.288</td>\n",
       "      <td>33</td>\n",
       "      <td>1</td>\n",
       "    </tr>\n",
       "  </tbody>\n",
       "</table>\n",
       "</div>"
      ],
      "text/plain": [
       "   Pregnancies  Glucose  BloodPressure  SkinThickness  Insulin   BMI  \\\n",
       "0            6      148             72             35        0  33.6   \n",
       "1            1       85             66             29        0  26.6   \n",
       "2            8      183             64              0        0  23.3   \n",
       "3            1       89             66             23       94  28.1   \n",
       "4            0      137             40             35      168  43.1   \n",
       "\n",
       "   DiabetesPedigreeFunction  Age  Outcome  \n",
       "0                     0.627   50        1  \n",
       "1                     0.351   31        0  \n",
       "2                     0.672   32        1  \n",
       "3                     0.167   21        0  \n",
       "4                     2.288   33        1  "
      ]
     },
     "execution_count": 1,
     "metadata": {},
     "output_type": "execute_result"
    }
   ],
   "source": [
    "import pandas as pd\n",
    "from sklearn.model_selection import train_test_split\n",
    "\n",
    "data = pd.read_csv('data/diabetes.csv')\n",
    "print(data.info())\n",
    "data.head()"
   ]
  },
  {
   "cell_type": "markdown",
   "metadata": {},
   "source": [
    "#### Make an 80/20 train/test split."
   ]
  },
  {
   "cell_type": "code",
   "execution_count": 2,
   "metadata": {},
   "outputs": [],
   "source": [
    "target = 'Outcome'\n",
    "features = list(data.drop(target,axis=1).columns.values)\n",
    "\n",
    "X = data[features]\n",
    "y = data[target]\n",
    "\n",
    "X_train, X_test, y_train, y_test = train_test_split(X, y, test_size=0.20, random_state=21)#, stratify=y)"
   ]
  },
  {
   "cell_type": "markdown",
   "metadata": {},
   "source": [
    "#### Fit a logistic regression model on the training data."
   ]
  },
  {
   "cell_type": "code",
   "execution_count": 3,
   "metadata": {},
   "outputs": [],
   "source": [
    "from sklearn import linear_model\n",
    "from sklearn.linear_model import LogisticRegression\n",
    "\n",
    "log_rgr = LogisticRegression()\n",
    "log_rgr = log_rgr.fit(X_train, y_train)"
   ]
  },
  {
   "cell_type": "markdown",
   "metadata": {},
   "source": [
    "#### Predict the test data."
   ]
  },
  {
   "cell_type": "code",
   "execution_count": 4,
   "metadata": {},
   "outputs": [],
   "source": [
    "y_pred = log_rgr.predict(X_test)"
   ]
  },
  {
   "cell_type": "markdown",
   "metadata": {},
   "source": [
    "#### Plot the ROC curve and compute the AUC score"
   ]
  },
  {
   "cell_type": "code",
   "execution_count": 5,
   "metadata": {},
   "outputs": [
    {
     "name": "stdout",
     "output_type": "stream",
     "text": [
      "Logistic Regression AUC: 0.7893617021276595\n"
     ]
    },
    {
     "data": {
      "image/png": "[encoded data removed]",
      "text/plain": [
       "<Figure size 432x288 with 1 Axes>"
      ]
     },
     "metadata": {
      "needs_background": "light"
     },
     "output_type": "display_data"
    }
   ],
   "source": [
    "# Plot outputs\n",
    "import matplotlib.pyplot as plt\n",
    "import sklearn.metrics\n",
    "from sklearn import preprocessing, metrics\n",
    "from sklearn.metrics import confusion_matrix, classification_report, roc_curve, roc_auc_score, auc, accuracy_score\n",
    "\n",
    "%matplotlib inline\n",
    "\n",
    "# calculate the fpr and tpr for all thresholds of the classification\n",
    "probs = log_rgr.predict_proba(X_test)\n",
    "preds = probs[:,1]\n",
    "fpr, tpr, threshold = metrics.roc_curve(y_test, preds)\n",
    "roc_auc = auc(fpr, tpr)\n",
    "\n",
    "print(\"Logistic Regression AUC: {}\".format(roc_auc))\n",
    "\n",
    "# Plot the ROC curve\n",
    "import matplotlib.pyplot as plt\n",
    "plt.title('Receiver Operating Characteristic')\n",
    "plt.plot(fpr, tpr, 'b', label = 'AUC = %0.2f' % roc_auc)\n",
    "plt.legend(loc = 'lower right')\n",
    "plt.plot([0, 1], [0, 1],'r--')\n",
    "plt.xlim([0, 1])\n",
    "plt.ylim([0, 1])\n",
    "plt.ylabel('True Positive Rate')\n",
    "plt.xlabel('False Positive Rate')\n",
    "plt.show()"
   ]
  },
  {
   "cell_type": "markdown",
   "metadata": {},
   "source": [
    "#### Calculate the accuracy metric of the observations in the test set."
   ]
  },
  {
   "cell_type": "code",
   "execution_count": 6,
   "metadata": {},
   "outputs": [
    {
     "name": "stdout",
     "output_type": "stream",
     "text": [
      "Logistic Regression accuracy: 0.7402597402597403\n"
     ]
    }
   ],
   "source": [
    "from sklearn.metrics import mean_squared_error\n",
    "import numpy as np\n",
    "\n",
    "lr_acc = accuracy_score(y_test, y_pred)\n",
    "\n",
    "print(\"Logistic Regression accuracy: {}\".format(lr_acc))"
   ]
  },
  {
   "cell_type": "markdown",
   "metadata": {},
   "source": [
    "## Cross-Validation"
   ]
  },
  {
   "cell_type": "markdown",
   "metadata": {},
   "source": [
    "## *k-*Fold Cross-Validation"
   ]
  },
  {
   "cell_type": "markdown",
   "metadata": {},
   "source": [
    "In few sentences, explain how K-fold procedure work."
   ]
  },
  {
   "cell_type": "markdown",
   "metadata": {},
   "source": [
    "The k-Fold cross-validation works by first splitting the dataset into k parts (e.g. 10). Then, holding one of the parts out at a time (e.g. k=1), the machine learning algorithm is trained on the remaining dataset (e.g. k=2 to 10) and tested on the part that was left out. This is repeated for each k parts. Then, in the end, the accuracy on each of the k parts is averaged together to get an estimate of the test accuracy that has less bias or variance than if only one part of the dataset was left out for training one time."
   ]
  },
  {
   "cell_type": "markdown",
   "metadata": {},
   "source": [
    "Perform linear regression using *k-*fold cross validation, try different values of k and print out the mean accuracy obtained."
   ]
  },
  {
   "cell_type": "code",
   "execution_count": 7,
   "metadata": {},
   "outputs": [],
   "source": [
    "from sklearn.model_selection import cross_val_score\n",
    "from matplotlib.ticker import MaxNLocator"
   ]
  },
  {
   "cell_type": "code",
   "execution_count": 8,
   "metadata": {},
   "outputs": [
    {
     "name": "stdout",
     "output_type": "stream",
     "text": [
      "Number of k-Folds =  3, Accuracy = 77.0% (1.9%)\n",
      "Number of k-Folds =  4, Accuracy = 76.8% (2.8%)\n",
      "Number of k-Folds =  5, Accuracy = 76.8% (1.9%)\n",
      "Number of k-Folds = 10, Accuracy = 76.7% (3.5%)\n",
      "Number of k-Folds = 15, Accuracy = 77.2% (6.0%)\n",
      "Number of k-Folds = 20, Accuracy = 76.6% (6.9%)\n"
     ]
    },
    {
     "data": {
      "image/png": "[encoded data removed]",
      "text/plain": [
       "<Figure size 432x432 with 2 Axes>"
      ]
     },
     "metadata": {
      "needs_background": "light"
     },
     "output_type": "display_data"
    }
   ],
   "source": [
    "seed = 21\n",
    "kfolds = [3,4,5,10,15,20]\n",
    "\n",
    "X = data[features]\n",
    "y = data[target]\n",
    "\n",
    "kfold_folds = []\n",
    "kfold_accuracies = []\n",
    "kfold_stds = []\n",
    "for k in kfolds:\n",
    "    model = LogisticRegression()\n",
    "    results = cross_val_score(model, X, y, cv=k)\n",
    "    \n",
    "    print(\"Number of k-Folds = %2d, Accuracy = %.1f%% (%.1f%%)\" % (k, results.mean() * 100., results.std() * 100.))\n",
    "    \n",
    "    kfold_folds.append(k)\n",
    "    kfold_accuracies.append(results.mean() * 100.)\n",
    "    kfold_stds.append(results.std() * 100.)\n",
    "\n",
    "fig,ax = plt.subplots(figsize=(6,6))\n",
    "\n",
    "l0, = ax.plot(kfold_folds, kfold_accuracies, label='Accuracy: Mean', markersize=5, marker='o')\n",
    "\n",
    "ax1 = ax.twinx()\n",
    "l1, = ax1.plot(kfold_folds, kfold_stds, label='Accuracy: STD', markersize=5, marker='o', color='red')\n",
    "\n",
    "ax.set_ylabel('Accuracy Mean (%)')\n",
    "ax1.set_ylabel('Accuracy STD (%)')\n",
    "\n",
    "ax.set_xlabel('Number of k-Folds')\n",
    "\n",
    "leg = ax.legend([l0, l1], ['Accuracy: Mean', 'Accuracy: STD'], loc='upper left')\n",
    "\n",
    "ax.set_xlim(kfolds[0]-1, kfolds[-1]+1)\n",
    "ax.xaxis.set_major_locator(MaxNLocator(integer=True))\n",
    "\n",
    "plt.show()"
   ]
  },
  {
   "cell_type": "markdown",
   "metadata": {},
   "source": [
    "## The Bootstrap"
   ]
  },
  {
   "cell_type": "markdown",
   "metadata": {
    "collapsed": true
   },
   "source": [
    "Print the target class distribution (You can see that there's almost twice as much 0s than 1s)\n"
   ]
  },
  {
   "cell_type": "code",
   "execution_count": 9,
   "metadata": {},
   "outputs": [
    {
     "name": "stdout",
     "output_type": "stream",
     "text": [
      "0    500\n",
      "1    268\n",
      "Name: Outcome, dtype: int64\n"
     ]
    },
    {
     "data": {
      "image/png": "[encoded data removed]",
      "text/plain": [
       "<Figure size 432x432 with 1 Axes>"
      ]
     },
     "metadata": {
      "needs_background": "light"
     },
     "output_type": "display_data"
    }
   ],
   "source": [
    "print(data['Outcome'].value_counts())\n",
    "\n",
    "fig,ax = plt.subplots(figsize=(6,6))\n",
    "\n",
    "data['Outcome'].value_counts().plot(kind=\"bar\", ax=ax)\n",
    "\n",
    "ax.set_ylabel('Count')\n",
    "ax.set_xlabel('Outcome')\n",
    "\n",
    "plt.show()"
   ]
  },
  {
   "cell_type": "markdown",
   "metadata": {},
   "source": [
    "Let's perform bootstrapping to up-sample the minority class\n",
    "\n",
    "1. First, we'll import the resampling module from Scikit-Learn\n",
    "2. Next, we'll resample the minority class with replacement, setting the number of samples to match that of the majority class\n",
    "3. Finally, we'll combine the up-sampled minority class DataFrame with the original majority class DataFrame."
   ]
  },
  {
   "cell_type": "code",
   "execution_count": 10,
   "metadata": {},
   "outputs": [],
   "source": [
    "from sklearn.utils import resample"
   ]
  },
  {
   "cell_type": "code",
   "execution_count": 11,
   "metadata": {},
   "outputs": [
    {
     "name": "stdout",
     "output_type": "stream",
     "text": [
      "1    500\n",
      "0    500\n",
      "Name: Outcome, dtype: int64\n"
     ]
    },
    {
     "data": {
      "image/png": "[encoded data removed]",
      "text/plain": [
       "<Figure size 432x432 with 1 Axes>"
      ]
     },
     "metadata": {
      "needs_background": "light"
     },
     "output_type": "display_data"
    }
   ],
   "source": [
    "# Separate majority and minority classes\n",
    "majority_class = data[ data['Outcome']==0 ]\n",
    "minority_class = data[ data['Outcome']==1 ]\n",
    " \n",
    "# Upsample minority class\n",
    "minority_upsampled = resample(minority_class, \n",
    "                                 replace=True,     # sample with replacement\n",
    "                                 n_samples=majority_class.shape[0],   # to match majority class\n",
    "                                 random_state=42)   # reproducible results\n",
    " \n",
    "# Combine majority class with upsampled minority class\n",
    "data_upsampled = pd.concat([majority_class, minority_upsampled])\n",
    " \n",
    "# Display new class counts \n",
    "# The new DataFrame should now have more observations than the original, and the ratio of the two classes is now 1:1.\n",
    "\n",
    "print(data_upsampled['Outcome'].value_counts())\n",
    "\n",
    "fig,ax = plt.subplots(figsize=(6,6))\n",
    "\n",
    "data_upsampled['Outcome'].value_counts().plot(kind=\"bar\", ax=ax)\n",
    "\n",
    "ax.set_ylabel('Upsampled Count')\n",
    "ax.set_xlabel('Outcome')\n",
    "\n",
    "plt.show()"
   ]
  },
  {
   "cell_type": "markdown",
   "metadata": {},
   "source": [
    "Let's train another model using Logistic Regression, this time on the balanced dataset"
   ]
  },
  {
   "cell_type": "code",
   "execution_count": 12,
   "metadata": {},
   "outputs": [
    {
     "name": "stdout",
     "output_type": "stream",
     "text": [
      "                                      Accuracy   ROC AUC\n",
      "Original Logistic Regression Model     0.74026  0.789362\n",
      "Stratified Logistic Regression Model   0.75974  0.811481\n",
      "Upsampled Logistic Regression Model    0.73500  0.828346\n"
     ]
    },
    {
     "data": {
      "image/png": "[encoded data removed]",
      "text/plain": [
       "<Figure size 432x432 with 1 Axes>"
      ]
     },
     "metadata": {
      "needs_background": "light"
     },
     "output_type": "display_data"
    }
   ],
   "source": [
    "# Separate input features (X) and target variable (y)\n",
    "target = 'Outcome'\n",
    "features = list(data_upsampled.drop(target,axis=1).columns.values)\n",
    "\n",
    "X = data_upsampled[features]\n",
    "y = data_upsampled[target]\n",
    "\n",
    "#Perform train test split 80/20\n",
    "X_train, X_test, y_train, y_test = train_test_split(X, y, test_size=0.20, random_state=21)\n",
    "\n",
    "# Train model\n",
    "log_rgr = LogisticRegression()\n",
    "log_rgr = log_rgr.fit(X_train, y_train)\n",
    " \n",
    "# Predict on training set\n",
    "y_pred = log_rgr.predict(X_test)\n",
    "\n",
    "# How's our accuracy? Has it improved? Comment\n",
    "\n",
    "# calculate the fpr and tpr for all thresholds of the classification\n",
    "probs = log_rgr.predict_proba(X_test)\n",
    "preds = probs[:,1]\n",
    "fpr_up, tpr_up, threshold = metrics.roc_curve(y_test, preds)\n",
    "roc_auc_up = auc(fpr_up, tpr_up)\n",
    "\n",
    "\n",
    "lr_acc_up = accuracy_score(y_test, y_pred)\n",
    "#print(\"Upsampled Logistic Regression AUC = %.3f\" % (roc_auc_up))\n",
    "#print(\"Upsampled Logistic Regression accuracy = %.3f\" % (lr_acc_up))\n",
    "\n",
    "#print(\"Original Logistic Regression AUC = %.3f\" % (roc_auc))\n",
    "#print(\"Original Logistic Regression accuracy = %.3f\" % (lr_acc))\n",
    "\n",
    "\n",
    "##\n",
    "X = data[features]\n",
    "y = data[target]\n",
    "\n",
    "#Perform train test split 80/20\n",
    "X_train, X_test, y_train, y_test = train_test_split(X, y, test_size=0.20, random_state=21, stratify=y)\n",
    "\n",
    "# Train model\n",
    "log_rgr = LogisticRegression()\n",
    "log_rgr = log_rgr.fit(X_train, y_train)\n",
    " \n",
    "# Predict on training set\n",
    "y_pred = log_rgr.predict(X_test)\n",
    "\n",
    "# How's our accuracy? Has it improved? Comment\n",
    "\n",
    "# calculate the fpr and tpr for all thresholds of the classification\n",
    "probs = log_rgr.predict_proba(X_test)\n",
    "preds = probs[:,1]\n",
    "fpr_strat, tpr_strat, threshold = metrics.roc_curve(y_test, preds)\n",
    "roc_auc_strat = auc(fpr_strat, tpr_strat)\n",
    "\n",
    "lr_acc_strat = accuracy_score(y_test, y_pred)\n",
    "\n",
    "#print(\"Stratified Logistic Regression AUC = %.3f\" % (roc_auc_strat))\n",
    "#print(\"Stratified Logistic Regression accuracy = %.3f\" % (lr_acc_strat))\n",
    "\n",
    "accuracies = [lr_acc, lr_acc_strat, lr_acc_up]\n",
    "roc_aucs = [roc_auc, roc_auc_strat, roc_auc_up]\n",
    "indices = ['Original Logistic Regression Model', 'Stratified Logistic Regression Model', 'Upsampled Logistic Regression Model']\n",
    "\n",
    "\n",
    "df = pd.DataFrame({'Accuracy':accuracies, 'ROC AUC':roc_aucs}, index=indices)\n",
    "print(df)\n",
    "\n",
    "fig, ax = plt.subplots(figsize=(6,6))\n",
    "lw = 2\n",
    "ax.plot(fpr, tpr, color='darkorange', lw=lw, label=\"Original Logistic Regression Model (AUC = %.2f)\" % (roc_auc))\n",
    "ax.plot(fpr_up, tpr_up, color='darkblue', lw=lw, label=\"Upsampled Logistic Regression Model (AUC = %.2f)\" % (roc_auc_up))\n",
    "#ax.plot(fpr_strat, tpr_strat, color='darkgreen', lw=lw, label=\"Stratified Logistic Regression Model (AUC = %.2f)\" % (roc_auc_strat))\n",
    "ax.plot([0, 1], [0, 1], color='red', lw=lw, linestyle='--', alpha=0.5)\n",
    "ax.set_xlim([-0.01, 1.01])\n",
    "ax.set_ylim([-0.01, 1.01])\n",
    "ax.set_xlabel('False Positive Rate')\n",
    "ax.set_ylabel('True Positive Rate')\n",
    "ax.set_title('Receiver operating characteristic')\n",
    "leg = ax.legend(loc=\"lower right\")\n",
    "plt.show()"
   ]
  },
  {
   "cell_type": "markdown",
   "metadata": {},
   "source": [
    "The AUC of the upsampled model is an improvement from the original logistic regression model and the stratified logistic regression model. The accuracy of the upsampled and original logistic regression models are about the same (~74%), which is to be expected as we trade false positives for false negatives when increasing the minority class."
   ]
  }
 ],
 "metadata": {
  "celltoolbar": "Raw Cell Format",
  "kernelspec": {
   "display_name": "Python 3",
   "language": "python",
   "name": "python3"
  },
  "language_info": {
   "codemirror_mode": {
    "name": "ipython",
    "version": 3
   },
   "file_extension": ".py",
   "mimetype": "text/x-python",
   "name": "python",
   "nbconvert_exporter": "python",
   "pygments_lexer": "ipython3",
   "version": "3.7.0"
  }
 },
 "nbformat": 4,
 "nbformat_minor": 2
}
