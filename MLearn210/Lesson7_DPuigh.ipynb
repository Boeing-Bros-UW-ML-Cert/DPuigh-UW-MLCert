{
 "cells": [
  {
   "cell_type": "markdown",
   "metadata": {
    "collapsed": true
   },
   "source": [
    "# Assignment 7: Linear Model Selection and Regularization"
   ]
  },
  {
   "cell_type": "markdown",
   "metadata": {},
   "source": [
    "Dataset(s) needed:\n",
    "Kaggle House Prices (https://www.kaggle.com/c/house-prices-advanced-regression-techniques/data)"
   ]
  },
  {
   "cell_type": "code",
   "execution_count": 1,
   "metadata": {},
   "outputs": [
    {
     "data": {
      "text/html": [
       "<div>\n",
       "<style scoped>\n",
       "    .dataframe tbody tr th:only-of-type {\n",
       "        vertical-align: middle;\n",
       "    }\n",
       "\n",
       "    .dataframe tbody tr th {\n",
       "        vertical-align: top;\n",
       "    }\n",
       "\n",
       "    .dataframe thead th {\n",
       "        text-align: right;\n",
       "    }\n",
       "</style>\n",
       "<table border=\"1\" class=\"dataframe\">\n",
       "  <thead>\n",
       "    <tr style=\"text-align: right;\">\n",
       "      <th></th>\n",
       "      <th>Id</th>\n",
       "      <th>MSSubClass</th>\n",
       "      <th>MSZoning</th>\n",
       "      <th>LotFrontage</th>\n",
       "      <th>LotArea</th>\n",
       "      <th>Street</th>\n",
       "      <th>Alley</th>\n",
       "      <th>LotShape</th>\n",
       "      <th>LandContour</th>\n",
       "      <th>Utilities</th>\n",
       "      <th>...</th>\n",
       "      <th>PoolArea</th>\n",
       "      <th>PoolQC</th>\n",
       "      <th>Fence</th>\n",
       "      <th>MiscFeature</th>\n",
       "      <th>MiscVal</th>\n",
       "      <th>MoSold</th>\n",
       "      <th>YrSold</th>\n",
       "      <th>SaleType</th>\n",
       "      <th>SaleCondition</th>\n",
       "      <th>SalePrice</th>\n",
       "    </tr>\n",
       "  </thead>\n",
       "  <tbody>\n",
       "    <tr>\n",
       "      <th>0</th>\n",
       "      <td>1</td>\n",
       "      <td>60</td>\n",
       "      <td>RL</td>\n",
       "      <td>65.0</td>\n",
       "      <td>8450</td>\n",
       "      <td>Pave</td>\n",
       "      <td>NaN</td>\n",
       "      <td>Reg</td>\n",
       "      <td>Lvl</td>\n",
       "      <td>AllPub</td>\n",
       "      <td>...</td>\n",
       "      <td>0</td>\n",
       "      <td>NaN</td>\n",
       "      <td>NaN</td>\n",
       "      <td>NaN</td>\n",
       "      <td>0</td>\n",
       "      <td>2</td>\n",
       "      <td>2008</td>\n",
       "      <td>WD</td>\n",
       "      <td>Normal</td>\n",
       "      <td>208500</td>\n",
       "    </tr>\n",
       "    <tr>\n",
       "      <th>1</th>\n",
       "      <td>2</td>\n",
       "      <td>20</td>\n",
       "      <td>RL</td>\n",
       "      <td>80.0</td>\n",
       "      <td>9600</td>\n",
       "      <td>Pave</td>\n",
       "      <td>NaN</td>\n",
       "      <td>Reg</td>\n",
       "      <td>Lvl</td>\n",
       "      <td>AllPub</td>\n",
       "      <td>...</td>\n",
       "      <td>0</td>\n",
       "      <td>NaN</td>\n",
       "      <td>NaN</td>\n",
       "      <td>NaN</td>\n",
       "      <td>0</td>\n",
       "      <td>5</td>\n",
       "      <td>2007</td>\n",
       "      <td>WD</td>\n",
       "      <td>Normal</td>\n",
       "      <td>181500</td>\n",
       "    </tr>\n",
       "    <tr>\n",
       "      <th>2</th>\n",
       "      <td>3</td>\n",
       "      <td>60</td>\n",
       "      <td>RL</td>\n",
       "      <td>68.0</td>\n",
       "      <td>11250</td>\n",
       "      <td>Pave</td>\n",
       "      <td>NaN</td>\n",
       "      <td>IR1</td>\n",
       "      <td>Lvl</td>\n",
       "      <td>AllPub</td>\n",
       "      <td>...</td>\n",
       "      <td>0</td>\n",
       "      <td>NaN</td>\n",
       "      <td>NaN</td>\n",
       "      <td>NaN</td>\n",
       "      <td>0</td>\n",
       "      <td>9</td>\n",
       "      <td>2008</td>\n",
       "      <td>WD</td>\n",
       "      <td>Normal</td>\n",
       "      <td>223500</td>\n",
       "    </tr>\n",
       "    <tr>\n",
       "      <th>3</th>\n",
       "      <td>4</td>\n",
       "      <td>70</td>\n",
       "      <td>RL</td>\n",
       "      <td>60.0</td>\n",
       "      <td>9550</td>\n",
       "      <td>Pave</td>\n",
       "      <td>NaN</td>\n",
       "      <td>IR1</td>\n",
       "      <td>Lvl</td>\n",
       "      <td>AllPub</td>\n",
       "      <td>...</td>\n",
       "      <td>0</td>\n",
       "      <td>NaN</td>\n",
       "      <td>NaN</td>\n",
       "      <td>NaN</td>\n",
       "      <td>0</td>\n",
       "      <td>2</td>\n",
       "      <td>2006</td>\n",
       "      <td>WD</td>\n",
       "      <td>Abnorml</td>\n",
       "      <td>140000</td>\n",
       "    </tr>\n",
       "    <tr>\n",
       "      <th>4</th>\n",
       "      <td>5</td>\n",
       "      <td>60</td>\n",
       "      <td>RL</td>\n",
       "      <td>84.0</td>\n",
       "      <td>14260</td>\n",
       "      <td>Pave</td>\n",
       "      <td>NaN</td>\n",
       "      <td>IR1</td>\n",
       "      <td>Lvl</td>\n",
       "      <td>AllPub</td>\n",
       "      <td>...</td>\n",
       "      <td>0</td>\n",
       "      <td>NaN</td>\n",
       "      <td>NaN</td>\n",
       "      <td>NaN</td>\n",
       "      <td>0</td>\n",
       "      <td>12</td>\n",
       "      <td>2008</td>\n",
       "      <td>WD</td>\n",
       "      <td>Normal</td>\n",
       "      <td>250000</td>\n",
       "    </tr>\n",
       "  </tbody>\n",
       "</table>\n",
       "<p>5 rows × 81 columns</p>\n",
       "</div>"
      ],
      "text/plain": [
       "   Id  MSSubClass MSZoning  LotFrontage  LotArea Street Alley LotShape  \\\n",
       "0   1          60       RL         65.0     8450   Pave   NaN      Reg   \n",
       "1   2          20       RL         80.0     9600   Pave   NaN      Reg   \n",
       "2   3          60       RL         68.0    11250   Pave   NaN      IR1   \n",
       "3   4          70       RL         60.0     9550   Pave   NaN      IR1   \n",
       "4   5          60       RL         84.0    14260   Pave   NaN      IR1   \n",
       "\n",
       "  LandContour Utilities    ...     PoolArea PoolQC Fence MiscFeature MiscVal  \\\n",
       "0         Lvl    AllPub    ...            0    NaN   NaN         NaN       0   \n",
       "1         Lvl    AllPub    ...            0    NaN   NaN         NaN       0   \n",
       "2         Lvl    AllPub    ...            0    NaN   NaN         NaN       0   \n",
       "3         Lvl    AllPub    ...            0    NaN   NaN         NaN       0   \n",
       "4         Lvl    AllPub    ...            0    NaN   NaN         NaN       0   \n",
       "\n",
       "  MoSold YrSold  SaleType  SaleCondition  SalePrice  \n",
       "0      2   2008        WD         Normal     208500  \n",
       "1      5   2007        WD         Normal     181500  \n",
       "2      9   2008        WD         Normal     223500  \n",
       "3      2   2006        WD        Abnorml     140000  \n",
       "4     12   2008        WD         Normal     250000  \n",
       "\n",
       "[5 rows x 81 columns]"
      ]
     },
     "execution_count": 1,
     "metadata": {},
     "output_type": "execute_result"
    }
   ],
   "source": [
    "import pandas as pd\n",
    "\n",
    "train = pd.read_csv('data/train.csv')\n",
    "train.head()"
   ]
  },
  {
   "cell_type": "markdown",
   "metadata": {},
   "source": [
    "#### Drop the Id columns from both train and test as these are not needed for prediction"
   ]
  },
  {
   "cell_type": "code",
   "execution_count": 2,
   "metadata": {},
   "outputs": [],
   "source": [
    "test = pd.read_csv('data/test.csv')\n",
    "\n",
    "drop_cols = ['Id']\n",
    "\n",
    "train = train.drop(drop_cols, axis=1)\n",
    "test = test.drop(drop_cols, axis=1)"
   ]
  },
  {
   "cell_type": "markdown",
   "metadata": {},
   "source": [
    "#### Visualize a scatter plot of 'GrLivArea' in the x-axis and 'SalePrice' in the y-axis. Can you spot any outliers?"
   ]
  },
  {
   "cell_type": "code",
   "execution_count": 3,
   "metadata": {},
   "outputs": [],
   "source": [
    "import matplotlib.pyplot as plt\n",
    "\n",
    "%matplotlib inline"
   ]
  },
  {
   "cell_type": "code",
   "execution_count": 4,
   "metadata": {},
   "outputs": [
    {
     "data": {
      "image/png": "[encoded data removed]",
      "text/plain": [
       "<Figure size 432x432 with 1 Axes>"
      ]
     },
     "metadata": {
      "needs_background": "light"
     },
     "output_type": "display_data"
    }
   ],
   "source": [
    "fig,ax = plt.subplots(figsize=(6,6))\n",
    "\n",
    "ax.scatter(train['GrLivArea'], train['SalePrice'], alpha=0.5)\n",
    "\n",
    "ax.set_ylabel('Sale Price ($)')\n",
    "ax.set_xlabel('Above Ground Living Area (sq. ft.)')\n",
    "\n",
    "plt.show()\n",
    "\n",
    "# There are outliers for GrLivArea > 4,000 sq. ft., \n",
    "# but most of the points are within SalePrice < $400,000 and GrLivArea < 3,000 sq. ft."
   ]
  },
  {
   "cell_type": "markdown",
   "metadata": {},
   "source": [
    "#### Remove outliers in the data for all GrLivArea greater than 4000 then check the scatter plot again"
   ]
  },
  {
   "cell_type": "code",
   "execution_count": 5,
   "metadata": {},
   "outputs": [
    {
     "data": {
      "image/png": "[encoded data removed]",
      "text/plain": [
       "<Figure size 432x432 with 1 Axes>"
      ]
     },
     "metadata": {
      "needs_background": "light"
     },
     "output_type": "display_data"
    }
   ],
   "source": [
    "# Remove outliers for train['GrLivArea']>4000\n",
    "cond = (train['GrLivArea']<4000)\n",
    "train = train[cond].reset_index(drop=True)\n",
    "\n",
    "\n",
    "fig,ax = plt.subplots(figsize=(6,6))\n",
    "\n",
    "ax.scatter(train['GrLivArea'], train['SalePrice'], alpha=0.5)\n",
    "\n",
    "ax.set_ylabel('Sale Price ($)')\n",
    "ax.set_xlabel('Above Ground Living Area (sq. ft.)')\n",
    "\n",
    "plt.show()"
   ]
  },
  {
   "cell_type": "markdown",
   "metadata": {},
   "source": [
    "#### Convert categorical variable into dummy variables using pandas get_dummies API\n"
   ]
  },
  {
   "cell_type": "code",
   "execution_count": 6,
   "metadata": {},
   "outputs": [],
   "source": [
    "train = pd.get_dummies(train)"
   ]
  },
  {
   "cell_type": "markdown",
   "metadata": {},
   "source": [
    "#### Impute missing data by the mean of each column."
   ]
  },
  {
   "cell_type": "code",
   "execution_count": 7,
   "metadata": {
    "scrolled": true
   },
   "outputs": [
    {
     "data": {
      "text/plain": [
       "MSSubClass                 0\n",
       "LotFrontage              259\n",
       "LotArea                    0\n",
       "OverallQual                0\n",
       "OverallCond                0\n",
       "YearBuilt                  0\n",
       "YearRemodAdd               0\n",
       "MasVnrArea                 8\n",
       "BsmtFinSF1                 0\n",
       "BsmtFinSF2                 0\n",
       "BsmtUnfSF                  0\n",
       "TotalBsmtSF                0\n",
       "1stFlrSF                   0\n",
       "2ndFlrSF                   0\n",
       "LowQualFinSF               0\n",
       "GrLivArea                  0\n",
       "BsmtFullBath               0\n",
       "BsmtHalfBath               0\n",
       "FullBath                   0\n",
       "HalfBath                   0\n",
       "BedroomAbvGr               0\n",
       "KitchenAbvGr               0\n",
       "TotRmsAbvGrd               0\n",
       "Fireplaces                 0\n",
       "GarageYrBlt               81\n",
       "GarageCars                 0\n",
       "GarageArea                 0\n",
       "WoodDeckSF                 0\n",
       "OpenPorchSF                0\n",
       "EnclosedPorch              0\n",
       "                        ... \n",
       "GarageCond_TA              0\n",
       "PavedDrive_N               0\n",
       "PavedDrive_P               0\n",
       "PavedDrive_Y               0\n",
       "PoolQC_Ex                  0\n",
       "PoolQC_Fa                  0\n",
       "PoolQC_Gd                  0\n",
       "Fence_GdPrv                0\n",
       "Fence_GdWo                 0\n",
       "Fence_MnPrv                0\n",
       "Fence_MnWw                 0\n",
       "MiscFeature_Gar2           0\n",
       "MiscFeature_Othr           0\n",
       "MiscFeature_Shed           0\n",
       "MiscFeature_TenC           0\n",
       "SaleType_COD               0\n",
       "SaleType_CWD               0\n",
       "SaleType_Con               0\n",
       "SaleType_ConLD             0\n",
       "SaleType_ConLI             0\n",
       "SaleType_ConLw             0\n",
       "SaleType_New               0\n",
       "SaleType_Oth               0\n",
       "SaleType_WD                0\n",
       "SaleCondition_Abnorml      0\n",
       "SaleCondition_AdjLand      0\n",
       "SaleCondition_Alloca       0\n",
       "SaleCondition_Family       0\n",
       "SaleCondition_Normal       0\n",
       "SaleCondition_Partial      0\n",
       "Length: 288, dtype: int64"
      ]
     },
     "execution_count": 7,
     "metadata": {},
     "output_type": "execute_result"
    }
   ],
   "source": [
    "train.isnull().sum()"
   ]
  },
  {
   "cell_type": "code",
   "execution_count": 8,
   "metadata": {},
   "outputs": [],
   "source": [
    "#Command(s):\n",
    "train = train.fillna(train.mean())"
   ]
  },
  {
   "cell_type": "code",
   "execution_count": 9,
   "metadata": {},
   "outputs": [
    {
     "data": {
      "text/plain": [
       "0"
      ]
     },
     "execution_count": 9,
     "metadata": {},
     "output_type": "execute_result"
    }
   ],
   "source": [
    "train.isnull().sum().sum()"
   ]
  },
  {
   "cell_type": "markdown",
   "metadata": {},
   "source": [
    "Generate train test split 70/30"
   ]
  },
  {
   "cell_type": "code",
   "execution_count": 10,
   "metadata": {},
   "outputs": [],
   "source": [
    "from sklearn.model_selection import train_test_split\n",
    "\n",
    "target = 'SalePrice'\n",
    "features = list(train.drop(target,axis=1).columns.values)\n",
    "\n",
    "X = train[features]\n",
    "y = train[target]\n",
    "\n",
    "\n",
    "from sklearn.preprocessing import StandardScaler\n",
    "\n",
    "sc = StandardScaler()\n",
    "\n",
    "X_scaled = X#sc.fit_transform(X)\n",
    "y_scaled = y#(y - y.min()) / (y.max() - y.min())\n",
    "\n",
    "X_train, X_test, y_train, y_test = train_test_split(X_scaled, y_scaled, test_size=0.30, random_state=23)"
   ]
  },
  {
   "cell_type": "markdown",
   "metadata": {},
   "source": [
    "## Linear Regression"
   ]
  },
  {
   "cell_type": "code",
   "execution_count": 11,
   "metadata": {},
   "outputs": [
    {
     "name": "stdout",
     "output_type": "stream",
     "text": [
      "Root Mean Squared Error: train set = 17322.2, test set = 29924.9\n"
     ]
    }
   ],
   "source": [
    "from sklearn.linear_model import Ridge, ElasticNet, LinearRegression\n",
    "from sklearn.metrics import mean_squared_error\n",
    "import numpy as np\n",
    "from numpy import sqrt\n",
    "\n",
    "reg = LinearRegression(normalize=False).fit(X_train, y_train)\n",
    "\n",
    "y_predicted_train = reg.predict(X_train)\n",
    "y_predicted_test = reg.predict(X_test)\n",
    "\n",
    "#Compute the RMSE \n",
    "rmse_train = sqrt(mean_squared_error(y_train, y_predicted_train))\n",
    "rmse_test = sqrt(mean_squared_error(y_test, y_predicted_test))\n",
    "\n",
    "print(\"Root Mean Squared Error: train set = %.1f, test set = %.1f\" % (rmse_train, rmse_test))"
   ]
  },
  {
   "cell_type": "markdown",
   "metadata": {
    "collapsed": true
   },
   "source": [
    "## Lasso Regression"
   ]
  },
  {
   "cell_type": "markdown",
   "metadata": {},
   "source": [
    "#### Fit lasso regression to training data with alpha 20. (Bonus: You could try CV to find the best alpha within a range)"
   ]
  },
  {
   "cell_type": "code",
   "execution_count": 12,
   "metadata": {},
   "outputs": [
    {
     "name": "stdout",
     "output_type": "stream",
     "text": [
      "Root Mean Squared Error: train set = 17895.8, test set = 25982.9\n"
     ]
    }
   ],
   "source": [
    "from sklearn import linear_model\n",
    "\n",
    "lasso = linear_model.Lasso(alpha=20).fit(X_train, y_train)\n",
    "\n",
    "#Compute the RMSE \n",
    "y_predicted_train = lasso.predict(X_train)\n",
    "y_predicted_test = lasso.predict(X_test)\n",
    "\n",
    "\n",
    "#Compute the RMSE \n",
    "rmse_train = sqrt(mean_squared_error(y_train, y_predicted_train))\n",
    "rmse_test = sqrt(mean_squared_error(y_test, y_predicted_test))\n",
    "\n",
    "print(\"Root Mean Squared Error: train set = %.1f, test set = %.1f\" % (rmse_train, rmse_test))"
   ]
  },
  {
   "cell_type": "code",
   "execution_count": 13,
   "metadata": {},
   "outputs": [],
   "source": [
    "def run_lasso_regression(alpha):\n",
    "    lasso = linear_model.Lasso(alpha=alpha, max_iter=100000).fit(X_train, y_train)\n",
    "\n",
    "    y_predicted_train = lasso.predict(X_train)\n",
    "    y_predicted_test = lasso.predict(X_test)\n",
    "\n",
    "    #Compute the RMSE \n",
    "    rmse_train = sqrt(mean_squared_error(y_train, y_predicted_train))\n",
    "    rmse_test = sqrt(mean_squared_error(y_test, y_predicted_test))\n",
    "    \n",
    "    num_nonzero_coef = len([x for x in lasso.coef_ if x != 0])\n",
    "\n",
    "    print(\"Alpha = %6.1f, RMSE: train set = %.2f, test set = %.2f, number of parameters = %3d\" % (alpha, \n",
    "                                                                                                  rmse_train, \n",
    "                                                                                                  rmse_test, num_nonzero_coef))"
   ]
  },
  {
   "cell_type": "code",
   "execution_count": 14,
   "metadata": {},
   "outputs": [
    {
     "name": "stdout",
     "output_type": "stream",
     "text": [
      "Alpha =    0.1, RMSE: train set = 17322.38, test set = 29718.88, number of parameters = 259\n",
      "Alpha =    1.0, RMSE: train set = 17337.38, test set = 29517.93, number of parameters = 255\n",
      "Alpha =    5.0, RMSE: train set = 17404.90, test set = 28259.68, number of parameters = 241\n",
      "Alpha =   10.0, RMSE: train set = 17555.31, test set = 27133.34, number of parameters = 231\n",
      "Alpha =   20.0, RMSE: train set = 17895.76, test set = 25982.91, number of parameters = 200\n",
      "Alpha =   50.0, RMSE: train set = 18695.39, test set = 24118.52, number of parameters = 152\n",
      "Alpha =  100.0, RMSE: train set = 19696.99, test set = 23638.03, number of parameters = 108\n",
      "Alpha =  500.0, RMSE: train set = 22828.80, test set = 25812.45, number of parameters =  55\n",
      "Alpha = 1000.0, RMSE: train set = 24970.65, test set = 27560.73, number of parameters =  39\n"
     ]
    }
   ],
   "source": [
    "alphas = [0.1, 1, 5, 10, 20, 50, 100, 500, 1000]\n",
    "\n",
    "for a in alphas:\n",
    "    run_lasso_regression(a)"
   ]
  },
  {
   "cell_type": "markdown",
   "metadata": {},
   "source": [
    "#### How many columns has the model chosen?"
   ]
  },
  {
   "cell_type": "code",
   "execution_count": 15,
   "metadata": {},
   "outputs": [
    {
     "name": "stdout",
     "output_type": "stream",
     "text": [
      "Alpha =   20.0, RMSE: train set = 17895.76, test set = 25982.91, number of parameters = 200\n"
     ]
    }
   ],
   "source": [
    "run_lasso_regression(alpha=20)\n",
    "# For alpha = 20, the number of parameters selected is 200"
   ]
  },
  {
   "cell_type": "markdown",
   "metadata": {},
   "source": [
    "## Ridge Regression"
   ]
  },
  {
   "cell_type": "markdown",
   "metadata": {},
   "source": [
    "#### Perform ridge regression with alpha set to 0.1 and normalize to True. (Bonus: You could try CV to find the best alpha within a range). "
   ]
  },
  {
   "cell_type": "code",
   "execution_count": 16,
   "metadata": {},
   "outputs": [],
   "source": [
    "def run_ridge_regression(alpha):\n",
    "    ridge = linear_model.Ridge(alpha=alpha, normalize=True).fit(X_train, y_train)\n",
    "\n",
    "    y_predicted_train = ridge.predict(X_train)\n",
    "    y_predicted_test = ridge.predict(X_test)\n",
    "\n",
    "    #Compute the RMSE \n",
    "    rmse_train = sqrt(mean_squared_error(y_train, y_predicted_train))\n",
    "    rmse_test = sqrt(mean_squared_error(y_test, y_predicted_test))\n",
    "\n",
    "    print(\"Alpha = %6.3f, RMSE: train set = %.2f, test set = %.2f\" % (alpha, rmse_train, rmse_test))"
   ]
  },
  {
   "cell_type": "code",
   "execution_count": 17,
   "metadata": {},
   "outputs": [
    {
     "name": "stdout",
     "output_type": "stream",
     "text": [
      "Alpha =  0.001, RMSE: train set = 17324.73, test set = 29868.19\n",
      "Alpha =  0.010, RMSE: train set = 17372.59, test set = 29352.99\n",
      "Alpha =  0.050, RMSE: train set = 17602.66, test set = 28202.53\n",
      "Alpha =  0.100, RMSE: train set = 17891.33, test set = 27363.27\n",
      "Alpha =  0.250, RMSE: train set = 18720.24, test set = 26311.25\n",
      "Alpha =  0.500, RMSE: train set = 19957.08, test set = 26149.94\n",
      "Alpha =  0.750, RMSE: train set = 21053.54, test set = 26581.21\n",
      "Alpha =  1.000, RMSE: train set = 22049.96, test set = 27211.92\n"
     ]
    }
   ],
   "source": [
    "alphas = [0.001, 0.01, 0.05, 0.1, 0.25, 0.5, 0.75, 1.0]\n",
    "\n",
    "for a in alphas:\n",
    "    run_ridge_regression(a)"
   ]
  },
  {
   "cell_type": "markdown",
   "metadata": {},
   "source": [
    "#### What is your root mean squared error (RMSE)? Comment on your observation."
   ]
  },
  {
   "cell_type": "code",
   "execution_count": 18,
   "metadata": {},
   "outputs": [],
   "source": [
    "#The RMSE for alpha = 0.1 is 27363.27\n",
    "#The RMSE is slightly lower for higher alpha, around alpha = 0.50"
   ]
  },
  {
   "cell_type": "markdown",
   "metadata": {},
   "source": [
    "## Elastic Net Regression"
   ]
  },
  {
   "cell_type": "markdown",
   "metadata": {},
   "source": [
    "#### Perform elastic net regression with different values of alpha (0.01, 0.1 and 20). Compute the RMSE as well. \n"
   ]
  },
  {
   "cell_type": "code",
   "execution_count": 19,
   "metadata": {},
   "outputs": [],
   "source": [
    "def run_elastic_net_regression(alpha):\n",
    "    elasticnet = linear_model.ElasticNet(alpha=alpha, normalize=False, max_iter=10000).fit(X_train, y_train)\n",
    "\n",
    "    y_predicted_train = elasticnet.predict(X_train)\n",
    "    y_predicted_test = elasticnet.predict(X_test)\n",
    "\n",
    "    #Compute the RMSE \n",
    "    rmse_train = sqrt(mean_squared_error(y_train, y_predicted_train))\n",
    "    rmse_test = sqrt(mean_squared_error(y_test, y_predicted_test))\n",
    "\n",
    "    print(\"Alpha = %6.2f, RMSE: train set = %.2f, test set = %.2f\" % (alpha, rmse_train, rmse_test))"
   ]
  },
  {
   "cell_type": "code",
   "execution_count": 20,
   "metadata": {},
   "outputs": [
    {
     "name": "stderr",
     "output_type": "stream",
     "text": [
      "C:\\ProgramData\\Anaconda3\\lib\\site-packages\\sklearn\\linear_model\\coordinate_descent.py:491: ConvergenceWarning: Objective did not converge. You might want to increase the number of iterations. Fitting data with very small alpha may cause precision problems.\n",
      "  ConvergenceWarning)\n"
     ]
    },
    {
     "name": "stdout",
     "output_type": "stream",
     "text": [
      "Alpha =   0.01, RMSE: train set = 18474.66, test set = 23846.66\n",
      "Alpha =   0.10, RMSE: train set = 20704.65, test set = 24456.04\n",
      "Alpha =  20.00, RMSE: train set = 31421.71, test set = 33436.67\n"
     ]
    }
   ],
   "source": [
    "alphas = [0.01, 0.1, 20]\n",
    "\n",
    "for a in alphas:\n",
    "    run_elastic_net_regression(a)"
   ]
  }
 ],
 "metadata": {
  "kernelspec": {
   "display_name": "Python 3",
   "language": "python",
   "name": "python3"
  },
  "language_info": {
   "codemirror_mode": {
    "name": "ipython",
    "version": 3
   },
   "file_extension": ".py",
   "mimetype": "text/x-python",
   "name": "python",
   "nbconvert_exporter": "python",
   "pygments_lexer": "ipython3",
   "version": "3.7.0"
  }
 },
 "nbformat": 4,
 "nbformat_minor": 2
}
