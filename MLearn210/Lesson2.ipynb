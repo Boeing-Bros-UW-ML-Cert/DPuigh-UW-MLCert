{
 "cells": [
  {
   "cell_type": "markdown",
   "metadata": {},
   "source": [
    "## <h1>Lesson 2. Regression analysis: How Much Is Your Car Worth?</h1>"
   ]
  },
  {
   "cell_type": "markdown",
   "metadata": {},
   "source": [
    "<img src=\"https://upload.wikimedia.org/wikipedia/commons/thumb/7/72/Kelley_Blue_Book_Vertical.JPG/152px-Kelley_Blue_Book_Vertical.JPG\" style=\"height:200px;\">\n",
    "  \n",
    "  <p>This exercise will use data collected from <a href=\"https://www.kbb.com/\">Kelly Blue Book</a> for 2005 for used General Motors (GM) cars. The overall goal is to predict the suggested retail price of the car (<a href=\"http://ww2.amstat.org/publications/jse/jse_data_archive.htm\">Kuiper (2008), JSE</a>).</p>\n",
    "\n",
    "<p>The following features are available for this dataset:</p>\n",
    "<ul>\n",
    "<li>Price: Suggested retail price of the used 2005 GM car</li>\n",
    "<li>Mileage: Car mileage</li>\n",
    "<li>Cylinder: Number of cylinders in the engine</li>\n",
    "<li>Doors: Number of doors</li>\n",
    "<li>Cruise: Does it have cruise control</li>\n",
    "<li>Sound: Does it have upgraded sound?</li>\n",
    "<li>Leather: Does it have leather seats?</li>\n",
    "<li>Make columns (indicator variables):\n",
    "    <ul>\n",
    "        <li>Buick</li>\n",
    "        <li>Cadillac</li>\n",
    "        <li>Chevy</li>\n",
    "        <li>Pontiac</li>\n",
    "        <li>Saab</li>\n",
    "        <li>...</li>\n",
    "    </ul>\n",
    "</li>\n",
    "<li>Body Type columns (indicator variables):\n",
    "    <ul>\n",
    "        <li>convertible</li>\n",
    "        <li>coupe</li>\n",
    "        <li>hatchback</li>\n",
    "        <li>sedan</li>\n",
    "        <li>...</li>\n",
    "    </ul>\n",
    "</li>\n",
    "</ul>\n"
   ]
  },
  {
   "cell_type": "code",
   "execution_count": 1,
   "metadata": {},
   "outputs": [
    {
     "data": {
      "text/html": [
       "<div>\n",
       "<style scoped>\n",
       "    .dataframe tbody tr th:only-of-type {\n",
       "        vertical-align: middle;\n",
       "    }\n",
       "\n",
       "    .dataframe tbody tr th {\n",
       "        vertical-align: top;\n",
       "    }\n",
       "\n",
       "    .dataframe thead th {\n",
       "        text-align: right;\n",
       "    }\n",
       "</style>\n",
       "<table border=\"1\" class=\"dataframe\">\n",
       "  <thead>\n",
       "    <tr style=\"text-align: right;\">\n",
       "      <th></th>\n",
       "      <th>Price</th>\n",
       "      <th>Mileage</th>\n",
       "      <th>Cylinder</th>\n",
       "      <th>Doors</th>\n",
       "      <th>Cruise</th>\n",
       "      <th>Sound</th>\n",
       "      <th>Leather</th>\n",
       "      <th>Buick</th>\n",
       "      <th>Cadillac</th>\n",
       "      <th>Chevy</th>\n",
       "      <th>Pontiac</th>\n",
       "      <th>Saab</th>\n",
       "      <th>Saturn</th>\n",
       "      <th>convertible</th>\n",
       "      <th>coupe</th>\n",
       "      <th>hatchback</th>\n",
       "      <th>sedan</th>\n",
       "      <th>wagon</th>\n",
       "    </tr>\n",
       "  </thead>\n",
       "  <tbody>\n",
       "    <tr>\n",
       "      <th>0</th>\n",
       "      <td>22661.05</td>\n",
       "      <td>20105</td>\n",
       "      <td>6</td>\n",
       "      <td>4</td>\n",
       "      <td>1</td>\n",
       "      <td>0</td>\n",
       "      <td>0</td>\n",
       "      <td>1</td>\n",
       "      <td>0</td>\n",
       "      <td>0</td>\n",
       "      <td>0</td>\n",
       "      <td>0</td>\n",
       "      <td>0</td>\n",
       "      <td>0</td>\n",
       "      <td>0</td>\n",
       "      <td>0</td>\n",
       "      <td>1</td>\n",
       "      <td>0</td>\n",
       "    </tr>\n",
       "    <tr>\n",
       "      <th>1</th>\n",
       "      <td>21725.01</td>\n",
       "      <td>13457</td>\n",
       "      <td>6</td>\n",
       "      <td>2</td>\n",
       "      <td>1</td>\n",
       "      <td>1</td>\n",
       "      <td>0</td>\n",
       "      <td>0</td>\n",
       "      <td>0</td>\n",
       "      <td>1</td>\n",
       "      <td>0</td>\n",
       "      <td>0</td>\n",
       "      <td>0</td>\n",
       "      <td>0</td>\n",
       "      <td>1</td>\n",
       "      <td>0</td>\n",
       "      <td>0</td>\n",
       "      <td>0</td>\n",
       "    </tr>\n",
       "    <tr>\n",
       "      <th>2</th>\n",
       "      <td>29142.71</td>\n",
       "      <td>31655</td>\n",
       "      <td>4</td>\n",
       "      <td>2</td>\n",
       "      <td>1</td>\n",
       "      <td>1</td>\n",
       "      <td>1</td>\n",
       "      <td>0</td>\n",
       "      <td>0</td>\n",
       "      <td>0</td>\n",
       "      <td>0</td>\n",
       "      <td>1</td>\n",
       "      <td>0</td>\n",
       "      <td>1</td>\n",
       "      <td>0</td>\n",
       "      <td>0</td>\n",
       "      <td>0</td>\n",
       "      <td>0</td>\n",
       "    </tr>\n",
       "    <tr>\n",
       "      <th>3</th>\n",
       "      <td>30731.94</td>\n",
       "      <td>22479</td>\n",
       "      <td>4</td>\n",
       "      <td>2</td>\n",
       "      <td>1</td>\n",
       "      <td>0</td>\n",
       "      <td>0</td>\n",
       "      <td>0</td>\n",
       "      <td>0</td>\n",
       "      <td>0</td>\n",
       "      <td>0</td>\n",
       "      <td>1</td>\n",
       "      <td>0</td>\n",
       "      <td>1</td>\n",
       "      <td>0</td>\n",
       "      <td>0</td>\n",
       "      <td>0</td>\n",
       "      <td>0</td>\n",
       "    </tr>\n",
       "    <tr>\n",
       "      <th>4</th>\n",
       "      <td>33358.77</td>\n",
       "      <td>17590</td>\n",
       "      <td>4</td>\n",
       "      <td>2</td>\n",
       "      <td>1</td>\n",
       "      <td>1</td>\n",
       "      <td>1</td>\n",
       "      <td>0</td>\n",
       "      <td>0</td>\n",
       "      <td>0</td>\n",
       "      <td>0</td>\n",
       "      <td>1</td>\n",
       "      <td>0</td>\n",
       "      <td>1</td>\n",
       "      <td>0</td>\n",
       "      <td>0</td>\n",
       "      <td>0</td>\n",
       "      <td>0</td>\n",
       "    </tr>\n",
       "  </tbody>\n",
       "</table>\n",
       "</div>"
      ],
      "text/plain": [
       "      Price  Mileage  Cylinder  Doors  Cruise  Sound  Leather  Buick  \\\n",
       "0  22661.05    20105         6      4       1      0        0      1   \n",
       "1  21725.01    13457         6      2       1      1        0      0   \n",
       "2  29142.71    31655         4      2       1      1        1      0   \n",
       "3  30731.94    22479         4      2       1      0        0      0   \n",
       "4  33358.77    17590         4      2       1      1        1      0   \n",
       "\n",
       "   Cadillac  Chevy  Pontiac  Saab  Saturn  convertible  coupe  hatchback  \\\n",
       "0         0      0        0     0       0            0      0          0   \n",
       "1         0      1        0     0       0            0      1          0   \n",
       "2         0      0        0     1       0            1      0          0   \n",
       "3         0      0        0     1       0            1      0          0   \n",
       "4         0      0        0     1       0            1      0          0   \n",
       "\n",
       "   sedan  wagon  \n",
       "0      1      0  \n",
       "1      0      0  \n",
       "2      0      0  \n",
       "3      0      0  \n",
       "4      0      0  "
      ]
     },
     "execution_count": 1,
     "metadata": {},
     "output_type": "execute_result"
    }
   ],
   "source": [
    "import pandas as pd\n",
    "\n",
    "cars = pd.read_csv('data/cars.csv')\n",
    "cars.head()"
   ]
  },
  {
   "cell_type": "code",
   "execution_count": 2,
   "metadata": {},
   "outputs": [
    {
     "name": "stdout",
     "output_type": "stream",
     "text": [
      "<class 'pandas.core.frame.DataFrame'>\n",
      "RangeIndex: 804 entries, 0 to 803\n",
      "Data columns (total 18 columns):\n",
      "Price          804 non-null float64\n",
      "Mileage        804 non-null int64\n",
      "Cylinder       804 non-null int64\n",
      "Doors          804 non-null int64\n",
      "Cruise         804 non-null int64\n",
      "Sound          804 non-null int64\n",
      "Leather        804 non-null int64\n",
      "Buick          804 non-null int64\n",
      "Cadillac       804 non-null int64\n",
      "Chevy          804 non-null int64\n",
      "Pontiac        804 non-null int64\n",
      "Saab           804 non-null int64\n",
      "Saturn         804 non-null int64\n",
      "convertible    804 non-null int64\n",
      "coupe          804 non-null int64\n",
      "hatchback      804 non-null int64\n",
      "sedan          804 non-null int64\n",
      "wagon          804 non-null int64\n",
      "dtypes: float64(1), int64(17)\n",
      "memory usage: 113.1 KB\n"
     ]
    }
   ],
   "source": [
    "cars.info()"
   ]
  },
  {
   "cell_type": "code",
   "execution_count": 3,
   "metadata": {},
   "outputs": [],
   "source": [
    "import matplotlib.pyplot as plt\n",
    "%matplotlib inline"
   ]
  },
  {
   "cell_type": "markdown",
   "metadata": {},
   "source": [
    "<h3>Q.1. Plot Price vs. Mileage. From the plot, does it seem like cars with more mileage are worth less?</h3>"
   ]
  },
  {
   "cell_type": "code",
   "execution_count": 4,
   "metadata": {},
   "outputs": [
    {
     "data": {
      "image/png": "[encoded data removed]",
      "text/plain": [
       "<Figure size 432x288 with 1 Axes>"
      ]
     },
     "metadata": {},
     "output_type": "display_data"
    }
   ],
   "source": [
    "# Put the command (or commands) here that would give answer to the above question.\n",
    "plt.scatter(cars['Mileage'], cars['Price'])\n",
    "plt.show()"
   ]
  },
  {
   "cell_type": "markdown",
   "metadata": {},
   "source": [
    "<h3>Q.2. Develop a simple linear regression model, relating price with mileage only. Show summary statistics for the model.</h3> "
   ]
  },
  {
   "cell_type": "code",
   "execution_count": 5,
   "metadata": {},
   "outputs": [],
   "source": [
    "def predict(x_, slope_, intercept_):\n",
    "    return slope_ * x_ + intercept_"
   ]
  },
  {
   "cell_type": "code",
   "execution_count": 6,
   "metadata": {},
   "outputs": [
    {
     "name": "stdout",
     "output_type": "stream",
     "text": [
      "Linear Regression Model\n",
      " slope     = -0.17252050260202137\n",
      " intercept = 24764.558991201993\n",
      " r_value   = -0.1430505060653787\n",
      " r2_value  = 0.020463447285560946\n",
      " p_value   = 4.684698031518038e-05\n",
      " std_err   = 0.04214775583437193\n"
     ]
    },
    {
     "data": {
      "image/png": "[encoded data removed]",
      "text/plain": [
       "<Figure size 432x288 with 1 Axes>"
      ]
     },
     "metadata": {},
     "output_type": "display_data"
    }
   ],
   "source": [
    "# Linear regression model:\n",
    "from scipy import stats\n",
    "\n",
    "x = cars['Mileage'].values\n",
    "y = cars['Price'].values\n",
    "\n",
    "slope, intercept, r_value, p_value, std_err = stats.linregress(x, y)\n",
    "\n",
    "# Show summary statistics for the model:\n",
    "print('Linear Regression Model')\n",
    "print(' slope     =', slope)\n",
    "print(' intercept =', intercept)\n",
    "print(' r_value   =', r_value)\n",
    "print(' r2_value  =', r_value*r_value)\n",
    "print(' p_value   =', p_value)\n",
    "print(' std_err   =', std_err)\n",
    "\n",
    "y_pred = predict(x, slope, intercept)\n",
    "\n",
    "plt.scatter(x, y)\n",
    "plt.plot(x, y_pred, color='r')\n",
    "\n",
    "plt.show()"
   ]
  },
  {
   "cell_type": "markdown",
   "metadata": {},
   "source": [
    "<h3>Q.3. What happens to price when there is one more mile on the car?</h3>"
   ]
  },
  {
   "cell_type": "code",
   "execution_count": 7,
   "metadata": {},
   "outputs": [
    {
     "name": "stdout",
     "output_type": "stream",
     "text": [
      "slope = -0.173\n"
     ]
    }
   ],
   "source": [
    "# Command:\n",
    "print('slope = %.3f' % (slope))\n",
    "\n",
    "# One sentence summary:\n",
    "# When the car has one additional mile on it, the price will decrease by $0.17."
   ]
  },
  {
   "cell_type": "markdown",
   "metadata": {},
   "source": [
    "<h3>Q.4. What is the expected value of a car with 0 miles according to your model?</h3>"
   ]
  },
  {
   "cell_type": "code",
   "execution_count": 8,
   "metadata": {},
   "outputs": [
    {
     "name": "stdout",
     "output_type": "stream",
     "text": [
      "intercept = 24764.56\n"
     ]
    }
   ],
   "source": [
    "# Single command\n",
    "print('intercept = %.2f' % (intercept))\n",
    "\n",
    "# According to the model, the expected value of a car with 0 miles is $24,764.56"
   ]
  },
  {
   "cell_type": "markdown",
   "metadata": {},
   "source": [
    "<h3>Q.5. Plot residuals of the model vs. fitted values. Are there any problems that you see with the model?</h3>"
   ]
  },
  {
   "cell_type": "code",
   "execution_count": 9,
   "metadata": {},
   "outputs": [
    {
     "data": {
      "image/png": "[encoded data removed]",
      "text/plain": [
       "<Figure size 1080x432 with 2 Axes>"
      ]
     },
     "metadata": {},
     "output_type": "display_data"
    }
   ],
   "source": [
    "# Plot residuals\n",
    "residuals = y - y_pred\n",
    "\n",
    "fig, ax = plt.subplots(1,2, figsize=(15,6))\n",
    "\n",
    "ax[0].scatter(y_pred, residuals)\n",
    "\n",
    "ax[0].set_title('Residuals vs predicted y (fitted values)')\n",
    "ax[0].set_ylabel('Residuals')\n",
    "ax[0].set_xlabel('Predicted y')\n",
    "\n",
    "ax[1].scatter(y, residuals)\n",
    "\n",
    "ax[1].set_title('Residuals vs actual y')\n",
    "ax[1].set_ylabel('Residuals')\n",
    "ax[1].set_xlabel('Actual y')\n",
    "\n",
    "plt.show()\n",
    "\n",
    "# Explain whether there are any problems (1-2 sentence)\n",
    "# Yes, there is a problem. The magnitude of the residuals (i.e., the size of the error) and the variance \n",
    "# grows as the actual price and fitted values increases (non-constant variance in the errors, i.e., heteroscedasticity)."
   ]
  },
  {
   "cell_type": "markdown",
   "metadata": {},
   "source": [
    "<h3>Q.6. Develop a model that predicts the Price from Mileage, Cylinder, Doors, Cruise, Sound, Leather data. Is this model more accurate - explain why (1-2 sentence). </h3>"
   ]
  },
  {
   "cell_type": "code",
   "execution_count": 10,
   "metadata": {
    "scrolled": true
   },
   "outputs": [
    {
     "name": "stderr",
     "output_type": "stream",
     "text": [
      "C:\\ProgramData\\Anaconda3\\lib\\site-packages\\ipykernel_launcher.py:12: SettingWithCopyWarning: \n",
      "A value is trying to be set on a copy of a slice from a DataFrame.\n",
      "Try using .loc[row_indexer,col_indexer] = value instead\n",
      "\n",
      "See the caveats in the documentation: http://pandas.pydata.org/pandas-docs/stable/indexing.html#indexing-view-versus-copy\n",
      "  if sys.path[0] == '':\n",
      "C:\\ProgramData\\Anaconda3\\lib\\site-packages\\pandas\\core\\indexing.py:543: SettingWithCopyWarning: \n",
      "A value is trying to be set on a copy of a slice from a DataFrame.\n",
      "Try using .loc[row_indexer,col_indexer] = value instead\n",
      "\n",
      "See the caveats in the documentation: http://pandas.pydata.org/pandas-docs/stable/indexing.html#indexing-view-versus-copy\n",
      "  self.obj[item] = s\n"
     ]
    },
    {
     "name": "stdout",
     "output_type": "stream",
     "text": [
      "      Mileage  Cylinder     Doors    Cruise     Sound   Leather\n",
      "0    0.033336  0.527410  0.556279  0.573520 -1.454744 -1.619142\n",
      "1   -0.778264  0.527410 -1.797659  0.573520  0.687406 -1.619142\n",
      "2    1.443383 -0.914896 -1.797659  0.573520  0.687406  0.617611\n",
      "3    0.323159 -0.914896 -1.797659  0.573520 -1.454744 -1.619142\n",
      "4   -0.273700 -0.914896 -1.797659  0.573520  0.687406  0.617611\n",
      "5    0.464286 -0.914896 -1.797659  0.573520 -1.454744 -1.619142\n",
      "6   -0.299215 -0.914896 -1.797659  0.573520  0.687406  0.617611\n",
      "7    0.943213 -0.914896 -1.797659  0.573520 -1.454744  0.617611\n",
      "8    0.636909 -0.914896 -1.797659  0.573520 -1.454744 -1.619142\n",
      "9   -0.306784 -0.914896  0.556279  0.573520 -1.454744  0.617611\n",
      "10  -1.199935 -0.914896  0.556279  0.573520  0.687406 -1.619142\n",
      "11   0.162133 -0.914896  0.556279  0.573520  0.687406  0.617611\n",
      "12   0.297888 -0.914896  0.556279  0.573520  0.687406  0.617611\n",
      "13   0.876923 -0.914896  0.556279  0.573520 -1.454744 -1.619142\n",
      "14   0.364056 -0.914896  0.556279  0.573520  0.687406  0.617611\n",
      "15  -1.198592 -0.914896  0.556279  0.573520 -1.454744  0.617611\n",
      "16   0.393478 -0.914896  0.556279  0.573520  0.687406  0.617611\n",
      "17   0.002694 -0.914896  0.556279  0.573520  0.687406  0.617611\n",
      "18   0.411668 -0.914896  0.556279  0.573520  0.687406  0.617611\n",
      "19  -1.442390 -0.914896  0.556279  0.573520 -1.454744  0.617611\n",
      "20  -0.637138 -0.914896  0.556279  0.573520 -1.454744  0.617611\n",
      "21   0.336710 -0.914896  0.556279  0.573520  0.687406  0.617611\n",
      "22   0.372236 -0.914896  0.556279  0.573520  0.687406  0.617611\n",
      "23   0.848966 -0.914896  0.556279  0.573520 -1.454744  0.617611\n",
      "24  -0.167000 -0.914896  0.556279  0.573520 -1.454744  0.617611\n",
      "25   0.131246 -0.914896  0.556279  0.573520 -1.454744  0.617611\n",
      "26  -0.000236 -0.914896  0.556279  0.573520  0.687406  0.617611\n",
      "27   0.242951 -0.914896  0.556279  0.573520  0.687406  0.617611\n",
      "28   0.674511 -0.914896  0.556279  0.573520 -1.454744  0.617611\n",
      "29   0.209134 -0.914896  0.556279  0.573520 -1.454744  0.617611\n",
      "..        ...       ...       ...       ...       ...       ...\n",
      "774  0.703932  0.527410  0.556279  0.573520 -1.454744 -1.619142\n",
      "775 -0.328759 -0.914896  0.556279  0.573520 -1.454744  0.617611\n",
      "776  1.725026 -0.914896  0.556279 -1.743617 -1.454744 -1.619142\n",
      "777  1.045762 -0.914896  0.556279 -1.743617 -1.454744 -1.619142\n",
      "778 -0.161262 -0.914896  0.556279 -1.743617  0.687406  0.617611\n",
      "779 -0.192271 -0.914896  0.556279 -1.743617  0.687406  0.617611\n",
      "780 -0.597461 -0.914896  0.556279  0.573520  0.687406  0.617611\n",
      "781  1.561070 -0.914896  0.556279  0.573520 -1.454744  0.617611\n",
      "782 -0.905840 -0.914896  0.556279 -1.743617 -1.454744  0.617611\n",
      "783  0.884492  0.527410  0.556279  0.573520  0.687406 -1.619142\n",
      "784 -1.331173  0.527410  0.556279  0.573520 -1.454744  0.617611\n",
      "785  0.993022  0.527410  0.556279  0.573520 -1.454744  0.617611\n",
      "786 -1.847946  0.527410  0.556279  0.573520  0.687406 -1.619142\n",
      "787 -0.287129  0.527410  0.556279  0.573520  0.687406 -1.619142\n",
      "788  0.678173  0.527410  0.556279  0.573520 -1.454744  0.617611\n",
      "789 -0.881668 -0.914896  0.556279  0.573520  0.687406  0.617611\n",
      "790  0.541808 -0.914896  0.556279 -1.743617 -1.454744 -1.619142\n",
      "791  0.226592 -0.914896  0.556279 -1.743617 -1.454744 -1.619142\n",
      "792  0.780234  0.527410 -1.797659  0.573520  0.687406  0.617611\n",
      "793  0.660227  0.527410 -1.797659  0.573520  0.687406  0.617611\n",
      "794  0.263705  0.527410 -1.797659  0.573520  0.687406 -1.619142\n",
      "795 -0.655694  0.527410  0.556279  0.573520  0.687406  0.617611\n",
      "796  1.026717  0.527410  0.556279  0.573520  0.687406  0.617611\n",
      "797  0.382369  0.527410  0.556279  0.573520  0.687406  0.617611\n",
      "798 -1.845382 -0.914896  0.556279  0.573520  0.687406 -1.619142\n",
      "799 -2.388647 -0.914896  0.556279  0.573520 -1.454744  0.617611\n",
      "800  0.122578 -0.914896  0.556279  0.573520  0.687406 -1.619142\n",
      "801  0.611638 -0.914896  0.556279  0.573520 -1.454744 -1.619142\n",
      "802 -0.068236 -0.914896  0.556279  0.573520  0.687406 -1.619142\n",
      "803 -0.032588 -0.914896  0.556279 -1.743617  0.687406  0.617611\n",
      "\n",
      "[804 rows x 6 columns]\n",
      "                            OLS Regression Results                            \n",
      "==============================================================================\n",
      "Dep. Variable:                  Price   R-squared:                       0.079\n",
      "Model:                            OLS   Adj. R-squared:                  0.072\n",
      "Method:                 Least Squares   F-statistic:                     11.35\n",
      "Date:                Sun, 14 Oct 2018   Prob (F-statistic):           3.38e-12\n",
      "Time:                        23:18:42   Log-Likelihood:                -9200.6\n",
      "No. Observations:                 804   AIC:                         1.841e+04\n",
      "Df Residuals:                     798   BIC:                         1.844e+04\n",
      "Df Model:                           6                                         \n",
      "Covariance Type:            nonrobust                                         \n",
      "==============================================================================\n",
      "                 coef    std err          t      P>|t|      [0.025      0.975]\n",
      "------------------------------------------------------------------------------\n",
      "Mileage    -1396.7431    800.507     -1.745      0.081   -2968.091     174.605\n",
      "Cylinder    4437.5107    863.395      5.140      0.000    2742.717    6132.304\n",
      "Doors      -1243.3624    803.432     -1.548      0.122   -2820.452     333.728\n",
      "Cruise      2678.0936    862.412      3.105      0.002     985.229    4370.958\n",
      "Sound       -945.0324    817.238     -1.156      0.248   -2549.223     659.158\n",
      "Leather     1487.4880    818.872      1.817      0.070    -119.910    3094.886\n",
      "==============================================================================\n",
      "Omnibus:                      145.941   Durbin-Watson:                   0.053\n",
      "Prob(Omnibus):                  0.000   Jarque-Bera (JB):              258.863\n",
      "Skew:                           1.098   Prob(JB):                     6.15e-57\n",
      "Kurtosis:                       4.703   Cond. No.                         1.52\n",
      "==============================================================================\n",
      "\n",
      "Warnings:\n",
      "[1] Standard Errors assume that the covariance matrix of the errors is correctly specified.\n"
     ]
    }
   ],
   "source": [
    "# Commands:\n",
    "import statsmodels.api as sm\n",
    "from sklearn.preprocessing import StandardScaler\n",
    "\n",
    "scale = StandardScaler()\n",
    "\n",
    "parameters = ['Mileage', 'Cylinder', 'Doors', 'Cruise', 'Sound', 'Leather']\n",
    "\n",
    "features = cars[parameters]\n",
    "target = cars['Price']\n",
    "\n",
    "features[parameters] = scale.fit_transform(features[parameters])\n",
    "\n",
    "print(features)\n",
    "\n",
    "model = sm.OLS(target, features).fit()\n",
    "\n",
    "print(model.summary())\n",
    "\n",
    "# Explanation:\n",
    "# This model performs better than the simpler model, but it still performs rather poorly (R^2 of ~0.08 vs 0.02 previously).\n",
    "# The increase in accuracy is due to the (perceived) value of the car being more than just mileage."
   ]
  },
  {
   "cell_type": "markdown",
   "metadata": {},
   "source": [
    "<h3>Q.7. Are any of the features in the above model highly colinear to the point where they impact the model quality?</h3>"
   ]
  },
  {
   "cell_type": "code",
   "execution_count": 11,
   "metadata": {},
   "outputs": [
    {
     "data": {
      "text/html": [
       "<div>\n",
       "<style scoped>\n",
       "    .dataframe tbody tr th:only-of-type {\n",
       "        vertical-align: middle;\n",
       "    }\n",
       "\n",
       "    .dataframe tbody tr th {\n",
       "        vertical-align: top;\n",
       "    }\n",
       "\n",
       "    .dataframe thead th {\n",
       "        text-align: right;\n",
       "    }\n",
       "</style>\n",
       "<table border=\"1\" class=\"dataframe\">\n",
       "  <thead>\n",
       "    <tr style=\"text-align: right;\">\n",
       "      <th></th>\n",
       "      <th>Mileage</th>\n",
       "      <th>Cylinder</th>\n",
       "      <th>Doors</th>\n",
       "      <th>Cruise</th>\n",
       "      <th>Sound</th>\n",
       "      <th>Leather</th>\n",
       "    </tr>\n",
       "  </thead>\n",
       "  <tbody>\n",
       "    <tr>\n",
       "      <th>Mileage</th>\n",
       "      <td>1.000000</td>\n",
       "      <td>-0.029461</td>\n",
       "      <td>-0.016944</td>\n",
       "      <td>0.025037</td>\n",
       "      <td>-0.026146</td>\n",
       "      <td>0.001005</td>\n",
       "    </tr>\n",
       "    <tr>\n",
       "      <th>Cylinder</th>\n",
       "      <td>-0.029461</td>\n",
       "      <td>1.000000</td>\n",
       "      <td>0.002206</td>\n",
       "      <td>0.354285</td>\n",
       "      <td>-0.089704</td>\n",
       "      <td>0.075520</td>\n",
       "    </tr>\n",
       "    <tr>\n",
       "      <th>Doors</th>\n",
       "      <td>-0.016944</td>\n",
       "      <td>0.002206</td>\n",
       "      <td>1.000000</td>\n",
       "      <td>-0.047674</td>\n",
       "      <td>-0.062530</td>\n",
       "      <td>-0.061969</td>\n",
       "    </tr>\n",
       "    <tr>\n",
       "      <th>Cruise</th>\n",
       "      <td>0.025037</td>\n",
       "      <td>0.354285</td>\n",
       "      <td>-0.047674</td>\n",
       "      <td>1.000000</td>\n",
       "      <td>-0.091730</td>\n",
       "      <td>-0.070573</td>\n",
       "    </tr>\n",
       "    <tr>\n",
       "      <th>Sound</th>\n",
       "      <td>-0.026146</td>\n",
       "      <td>-0.089704</td>\n",
       "      <td>-0.062530</td>\n",
       "      <td>-0.091730</td>\n",
       "      <td>1.000000</td>\n",
       "      <td>0.165444</td>\n",
       "    </tr>\n",
       "    <tr>\n",
       "      <th>Leather</th>\n",
       "      <td>0.001005</td>\n",
       "      <td>0.075520</td>\n",
       "      <td>-0.061969</td>\n",
       "      <td>-0.070573</td>\n",
       "      <td>0.165444</td>\n",
       "      <td>1.000000</td>\n",
       "    </tr>\n",
       "  </tbody>\n",
       "</table>\n",
       "</div>"
      ],
      "text/plain": [
       "           Mileage  Cylinder     Doors    Cruise     Sound   Leather\n",
       "Mileage   1.000000 -0.029461 -0.016944  0.025037 -0.026146  0.001005\n",
       "Cylinder -0.029461  1.000000  0.002206  0.354285 -0.089704  0.075520\n",
       "Doors    -0.016944  0.002206  1.000000 -0.047674 -0.062530 -0.061969\n",
       "Cruise    0.025037  0.354285 -0.047674  1.000000 -0.091730 -0.070573\n",
       "Sound    -0.026146 -0.089704 -0.062530 -0.091730  1.000000  0.165444\n",
       "Leather   0.001005  0.075520 -0.061969 -0.070573  0.165444  1.000000"
      ]
     },
     "execution_count": 11,
     "metadata": {},
     "output_type": "execute_result"
    }
   ],
   "source": [
    "# Command(s):\n",
    "cars[parameters].corr()\n",
    "\n",
    "# Comment on the result\n",
    "# The maximum correlation between different parameters is 0.35. We do not expect this level of correlation to impact\n",
    "# the model quality."
   ]
  },
  {
   "cell_type": "markdown",
   "metadata": {},
   "source": [
    "<h3>Q.8. What is the expected price for the Chevy sedan described in variable 'chevy', shown below?</h3>"
   ]
  },
  {
   "cell_type": "code",
   "execution_count": 16,
   "metadata": {},
   "outputs": [
    {
     "name": "stdout",
     "output_type": "stream",
     "text": [
      "Predicted price ($) for the Chevy sedan = -1753.54\n"
     ]
    }
   ],
   "source": [
    "chevy = {\"Mileage\":30000, \"Cylinder\":4, \"Doors\":2, \"Cruise\":1, \"Sound\":1, \"Leather\":1}\n",
    "# Commands that estimate the price of 'chevy' using the model with 6 predictors\n",
    "chevy = pd.DataFrame(chevy, index=[0])[parameters]\n",
    "\n",
    "chevy[parameters] = scale.transform(chevy[parameters])\n",
    "predict_chevy = model.predict(chevy)\n",
    "\n",
    "print(\"Predicted price ($) for the Chevy sedan = %.2f\" % (predict_chevy))"
   ]
  },
  {
   "cell_type": "markdown",
   "metadata": {},
   "source": [
    "This price is unphysical, and the problem is likely due to the scaling used based on the \"training\" set. Since the input set used to fit and transform the features was small, new vehicles that are substantially different in features can produce unexpected and unphysical results. Below is what happens when we do not scale the data."
   ]
  },
  {
   "cell_type": "code",
   "execution_count": 18,
   "metadata": {
    "scrolled": true
   },
   "outputs": [
    {
     "name": "stdout",
     "output_type": "stream",
     "text": [
      "                            OLS Regression Results                            \n",
      "==============================================================================\n",
      "Dep. Variable:                  Price   R-squared:                       0.900\n",
      "Model:                            OLS   Adj. R-squared:                  0.899\n",
      "Method:                 Least Squares   F-statistic:                     1198.\n",
      "Date:                Sun, 14 Oct 2018   Prob (F-statistic):               0.00\n",
      "Time:                        23:25:50   Log-Likelihood:                -8307.5\n",
      "No. Observations:                 804   AIC:                         1.663e+04\n",
      "Df Residuals:                     798   BIC:                         1.666e+04\n",
      "Df Model:                           6                                         \n",
      "Covariance Type:            nonrobust                                         \n",
      "==============================================================================\n",
      "                 coef    std err          t      P>|t|      [0.025      0.975]\n",
      "------------------------------------------------------------------------------\n",
      "Mileage       -0.1196      0.030     -4.030      0.000      -0.178      -0.061\n",
      "Cylinder    3615.2074    178.201     20.287      0.000    3265.409    3965.006\n",
      "Doors       -635.4939    236.775     -2.684      0.007   -1100.270    -170.718\n",
      "Cruise      6528.7484    653.250      9.994      0.000    5246.457    7811.040\n",
      "Sound      -1350.7612    552.468     -2.445      0.015   -2435.224    -266.298\n",
      "Leather     3806.1630    591.652      6.433      0.000    2644.786    4967.540\n",
      "==============================================================================\n",
      "Omnibus:                      148.684   Durbin-Watson:                   0.520\n",
      "Prob(Omnibus):                  0.000   Jarque-Bera (JB):              265.645\n",
      "Skew:                           1.114   Prob(JB):                     2.07e-58\n",
      "Kurtosis:                       4.723   Cond. No.                     5.47e+04\n",
      "==============================================================================\n",
      "\n",
      "Warnings:\n",
      "[1] Standard Errors assume that the covariance matrix of the errors is correctly specified.\n",
      "[2] The condition number is large, 5.47e+04. This might indicate that there are\n",
      "strong multicollinearity or other numerical problems.\n",
      "\n",
      "Predicted price ($) for the Chevy sedan = 18586.25\n"
     ]
    }
   ],
   "source": [
    "parameters = ['Mileage', 'Cylinder', 'Doors', 'Cruise', 'Sound', 'Leather']\n",
    "\n",
    "features = cars[parameters]\n",
    "target = cars['Price']\n",
    "\n",
    "model = sm.OLS(target, features).fit()\n",
    "\n",
    "print(model.summary())\n",
    "\n",
    "chevy = {\"Mileage\":30000, \"Cylinder\":4, \"Doors\":2, \"Cruise\":1, \"Sound\":1, \"Leather\":1}\n",
    "chevy = pd.DataFrame(chevy, index=[0])[parameters]\n",
    "\n",
    "predict_chevy = model.predict(chevy)\n",
    "\n",
    "print(\"\\nPredicted price ($) for the Chevy sedan = %.2f\" % (predict_chevy))"
   ]
  },
  {
   "cell_type": "markdown",
   "metadata": {},
   "source": [
    "After removing scaling, the predicted price for this chevy is $18,586.25. This is a much more reasonable result."
   ]
  },
  {
   "cell_type": "markdown",
   "metadata": {},
   "source": [
    "<h3>Q.9. What is the expected price for the Chevy mentioned above if you include all features in the prediction? Can you comment on any problems you encounter when doing this prediction?</h3>"
   ]
  },
  {
   "cell_type": "code",
   "execution_count": 24,
   "metadata": {},
   "outputs": [
    {
     "data": {
      "text/plain": [
       "Price          16427.599406\n",
       "Mileage        19655.587500\n",
       "Cylinder           5.000000\n",
       "Doors              3.375000\n",
       "Cruise             0.596875\n",
       "Sound              0.828125\n",
       "Leather            0.809375\n",
       "Buick              0.000000\n",
       "Cadillac           0.000000\n",
       "Chevy              1.000000\n",
       "Pontiac            0.000000\n",
       "Saab               0.000000\n",
       "Saturn             0.000000\n",
       "convertible        0.031250\n",
       "coupe              0.281250\n",
       "hatchback          0.187500\n",
       "sedan              0.500000\n",
       "wagon              0.000000\n",
       "dtype: float64"
      ]
     },
     "execution_count": 24,
     "metadata": {},
     "output_type": "execute_result"
    }
   ],
   "source": [
    "cars[(cars['Chevy']==1)].mean()"
   ]
  },
  {
   "cell_type": "code",
   "execution_count": 21,
   "metadata": {
    "scrolled": true
   },
   "outputs": [
    {
     "name": "stdout",
     "output_type": "stream",
     "text": [
      "                            OLS Regression Results                            \n",
      "==============================================================================\n",
      "Dep. Variable:                  Price   R-squared:                       0.915\n",
      "Model:                            OLS   Adj. R-squared:                  0.914\n",
      "Method:                 Least Squares   F-statistic:                     607.2\n",
      "Date:                Sun, 14 Oct 2018   Prob (F-statistic):               0.00\n",
      "Time:                        23:35:13   Log-Likelihood:                -7544.8\n",
      "No. Observations:                 804   AIC:                         1.512e+04\n",
      "Df Residuals:                     789   BIC:                         1.519e+04\n",
      "Df Model:                          14                                         \n",
      "Covariance Type:            nonrobust                                         \n",
      "===============================================================================\n",
      "                  coef    std err          t      P>|t|      [0.025      0.975]\n",
      "-------------------------------------------------------------------------------\n",
      "Mileage        -0.1842      0.013    -14.664      0.000      -0.209      -0.160\n",
      "Cylinder     3659.4543    113.345     32.286      0.000    3436.961    3881.947\n",
      "Doors        1654.6326    174.525      9.481      0.000    1312.044    1997.221\n",
      "Cruise        340.8695    295.962      1.152      0.250    -240.096     921.835\n",
      "Sound         440.9169    234.484      1.880      0.060     -19.370     901.204\n",
      "Leather       790.8220    249.745      3.167      0.002     300.579    1281.065\n",
      "Buick       -1911.3752    336.292     -5.684      0.000   -2571.507   -1251.243\n",
      "Cadillac      1.05e+04    409.274     25.663      0.000    9699.900    1.13e+04\n",
      "Chevy       -3408.2863    213.274    -15.981      0.000   -3826.937   -2989.635\n",
      "Pontiac     -4258.9628    256.358    -16.613      0.000   -4762.188   -3755.737\n",
      "Saab         9419.1227    331.211     28.438      0.000    8768.963    1.01e+04\n",
      "Saturn      -2859.0803    358.709     -7.970      0.000   -3563.218   -2154.943\n",
      "convertible  1.258e+04    525.984     23.922      0.000    1.15e+04    1.36e+04\n",
      "coupe        1559.7620    395.946      3.939      0.000     782.531    2336.993\n",
      "hatchback   -4977.3196    339.046    -14.680      0.000   -5642.858   -4311.782\n",
      "sedan       -3064.7176    215.007    -14.254      0.000   -3486.771   -2642.665\n",
      "wagon        1384.6400    364.920      3.794      0.000     668.311    2100.969\n",
      "==============================================================================\n",
      "Omnibus:                       68.748   Durbin-Watson:                   0.700\n",
      "Prob(Omnibus):                  0.000   Jarque-Bera (JB):              221.096\n",
      "Skew:                           0.376   Prob(JB):                     9.76e-49\n",
      "Kurtosis:                       5.457   Cond. No.                     2.32e+20\n",
      "==============================================================================\n",
      "\n",
      "Warnings:\n",
      "[1] Standard Errors assume that the covariance matrix of the errors is correctly specified.\n",
      "[2] The smallest eigenvalue is 6.87e-30. This might indicate that there are\n",
      "strong multicollinearity problems or that the design matrix is singular.\n",
      "\n",
      "Predicted price ($) for the Chevy sedan = 7520.46\n",
      "\n",
      "Predicted price ($) for the convertible Chevy sedan = 20102.81\n"
     ]
    }
   ],
   "source": [
    "# Commands\n",
    "parameters = [i for i in list(cars.columns.values) if i != 'Price']\n",
    "\n",
    "features = cars[parameters]\n",
    "target = cars['Price']\n",
    "\n",
    "model = sm.OLS(target, features).fit()\n",
    "\n",
    "print(model.summary())\n",
    "\n",
    "# Additional features were determined using typical values for other Chevy vehicles in the dataset (see above)\n",
    "chevy = {\"Mileage\":30000, \"Cylinder\":4, \"Doors\":2, \"Cruise\":1, \"Sound\":1, \"Leather\":1, \"Buick\":0, \"Cadillac\":0, \"Chevy\":1,\n",
    "         \"Pontiac\":0, \"Saab\":0, \"Saturn\":0, \"convertible\":0, \"coupe\":0, \"hatchback\":0, \"sedan\":1, \"wagon\":0}\n",
    "chevy = pd.DataFrame(chevy, index=[0])[parameters]\n",
    "\n",
    "predict_chevy = model.predict(chevy)\n",
    "\n",
    "print(\"\\nPredicted price ($) for the Chevy sedan = %.2f\" % (predict_chevy))\n",
    "\n",
    "# Explanation:\n",
    "# \n",
    "\n",
    "# Comments on problems\n",
    "# One of the problems we encountered was that not all the features were defined in the problem for the Chevy. This is \n",
    "# critical if we are using all features in the model. In addition, we have the problem that we cannot scale the features.\n",
    "# Other than those issues, we are able to find a reasonable prediction for the expected price of this vehicle. Note that \n",
    "# if we change input features (e.g. change the car to convertible), the expected price can change greatly.\n",
    "\n",
    "chevy = {\"Mileage\":30000, \"Cylinder\":4, \"Doors\":2, \"Cruise\":1, \"Sound\":1, \"Leather\":1, \"Buick\":0, \"Cadillac\":0, \"Chevy\":1,\n",
    "         \"Pontiac\":0, \"Saab\":0, \"Saturn\":0, \"convertible\":1, \"coupe\":0, \"hatchback\":0, \"sedan\":1, \"wagon\":0}\n",
    "chevy = pd.DataFrame(chevy, index=[0])[parameters]\n",
    "\n",
    "predict_chevy = model.predict(chevy)\n",
    "\n",
    "print(\"\\nPredicted price ($) for the convertible Chevy sedan = %.2f\" % (predict_chevy))"
   ]
  }
 ],
 "metadata": {
  "kernelspec": {
   "display_name": "Python 3",
   "language": "python",
   "name": "python3"
  },
  "language_info": {
   "codemirror_mode": {
    "name": "ipython",
    "version": 3
   },
   "file_extension": ".py",
   "mimetype": "text/x-python",
   "name": "python",
   "nbconvert_exporter": "python",
   "pygments_lexer": "ipython3",
   "version": "3.7.0"
  }
 },
 "nbformat": 4,
 "nbformat_minor": 2
}
